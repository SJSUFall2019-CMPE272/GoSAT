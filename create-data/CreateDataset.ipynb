{
 "cells": [
  {
   "cell_type": "code",
   "execution_count": null,
   "metadata": {
    "collapsed": true
   },
   "outputs": [],
   "source": [
    "import boto3\n",
    "import numpy as np\n",
    "import pandas as pd"
   ]
  },
  {
   "cell_type": "markdown",
   "metadata": {},
   "source": [
    "#### Helper methods to filter and transform dataframes"
   ]
  },
  {
   "cell_type": "code",
   "execution_count": null,
   "metadata": {
    "collapsed": false
   },
   "outputs": [],
   "source": [
    "# df should be a pandas dataframe\n",
    "# cols_to_keep should be a list of column strings present in df\n",
    "# assumes the input data frame will have a Status, Fall Term, and County columns\n",
    "# returns all rows in the dataframe where Status = Admitted and Fall Term = 2018\n",
    "# filters cols based on the cols_to_keep\n",
    "# removes duplicates if remove_dups is True (by default)\n",
    "def filter_dataframe(df, cols_to_keep, status='Adm', year=2018, remove_dups=True):\n",
    "    # take only admitted students\n",
    "    df = df[df['Status'] == status]\n",
    "    # only look at the most recent admits\n",
    "    df = df[df['Fall Term'] ==  year]\n",
    "    # filter columns\n",
    "    df = df[cols_to_keep]\n",
    "    \n",
    "    if remove_dups:\n",
    "        # remove duplicates\n",
    "        df = df.drop_duplicates()\n",
    "    \n",
    "    print \"Number of rows in the set {0}\".format(df.size)\n",
    "    print \"Number of unique counties {0}\".format(len(list(df['County'].unique())))\n",
    "    \n",
    "    return df"
   ]
  },
  {
   "cell_type": "code",
   "execution_count": null,
   "metadata": {
    "collapsed": false
   },
   "outputs": [],
   "source": [
    "# transform gpas into discrete buckets\n",
    "# round down to the lower bucket for each range\n",
    "# min GPA = 3.24, max GPA = 4.35, stddev = 0.2134\n",
    "def bucket_gpa(gpa):\n",
    "    if gpa >= 3.0 and gpa < 3.2:\n",
    "        return 3.0\n",
    "\n",
    "    if gpa >= 3.2 and gpa < 3.4:\n",
    "        return 3.2\n",
    "\n",
    "    if gpa >= 3.4 and gpa < 3.6:\n",
    "        return 3.4\n",
    "\n",
    "    if gpa >= 3.6 and gpa < 3.8:\n",
    "        return 3.6\n",
    "\n",
    "    if gpa >= 3.8 and gpa < 4.0:\n",
    "        return 3.8\n",
    "\n",
    "    if gpa >= 4.0 and gpa < 4.2:\n",
    "        return 4.2\n",
    "\n",
    "    return 4.4"
   ]
  },
  {
   "cell_type": "code",
   "execution_count": null,
   "metadata": {
    "collapsed": true
   },
   "outputs": [],
   "source": [
    "# transform sat scores into discrete buckets\n",
    "# min score = 440 and max score = 550\n",
    "def bucket_sat_score(score):\n",
    "    if score >= 400 and score < 440:\n",
    "        return 400\n",
    "\n",
    "    if score >= 440 and score < 460:\n",
    "        return 440\n",
    "    \n",
    "    if score >= 460 and score < 480:\n",
    "        return 460\n",
    "    \n",
    "    if score >= 480 and score < 500:\n",
    "        return 480\n",
    "    \n",
    "    if score >= 500 and score < 520:\n",
    "        return 500\n",
    "    \n",
    "    if score >= 520 and score < 540:\n",
    "        return 520\n",
    "    \n",
    "    return 540"
   ]
  },
  {
   "cell_type": "markdown",
   "metadata": {},
   "source": [
    "#### Ingest and Format Admit Ethnicity Data\n",
    "#### Resulting DataFrame should have County and Ethnicity of all 2018 Admitted UC students"
   ]
  },
  {
   "cell_type": "code",
   "execution_count": null,
   "metadata": {
    "collapsed": false
   },
   "outputs": [],
   "source": [
    "# import data by ethnicity\n",
    "ethnicities = pd.read_csv('../data/HS_ethnicity_by_year_data.csv')\n",
    "# rename County, Status, and Ethnicity Columns\n",
    "ethnicities = ethnicities.rename(columns={'County/State/ Territory': 'County', 'Count': 'Status', 'Uad Uc Ethn 6 Cat': 'Ethnicity', 'Pivot Field Values': 'Count'})\n",
    "# further filter rows\n",
    "# only keep rows that have a county\n",
    "ethnicities = ethnicities[pd.notnull(ethnicities['County'])]\n",
    "ethnicities = filter_dataframe(ethnicities, ['County', 'Ethnicity'])"
   ]
  },
  {
   "cell_type": "code",
   "execution_count": null,
   "metadata": {
    "collapsed": false
   },
   "outputs": [],
   "source": [
    "ethnicities.head()"
   ]
  },
  {
   "cell_type": "code",
   "execution_count": null,
   "metadata": {
    "collapsed": false
   },
   "outputs": [],
   "source": [
    "# import data by gender\n",
    "genders = pd.read_csv('../data/FR_GENDER_data.csv')\n",
    "genders = genders.rename(columns={'Count': 'Status', 'Pivot Field Values': 'Count', 'County/State/ Territory': 'County'})\n",
    "genders['Fall Term'] = 2018\n",
    "genders = filter_dataframe(genders, ['County', 'Gender'])"
   ]
  },
  {
   "cell_type": "code",
   "execution_count": null,
   "metadata": {
    "collapsed": false
   },
   "outputs": [],
   "source": [
    "genders.head()"
   ]
  },
  {
   "cell_type": "markdown",
   "metadata": {},
   "source": [
    "#### Min GPA for 2018 admits is 3.24\n",
    "#### Max GPA for 2018 admits is 4.35"
   ]
  },
  {
   "cell_type": "code",
   "execution_count": null,
   "metadata": {
    "collapsed": false
   },
   "outputs": [],
   "source": [
    "# import data by gpa\n",
    "gpas = pd.read_csv('../data/FR_GPA_by_Inst_data.csv')\n",
    "# rename columns\n",
    "gpas = gpas.rename(columns={'Measure Values': 'GPA', 'School Name': 'School', 'Measure Names': 'Status'})\n",
    "# filter any rows that do not have a GPA or county\n",
    "gpas = gpas[pd.notnull(gpas['GPA'])]\n",
    "gpas = gpas[gpas['County'] != 'Not Applicable']\n",
    "gpas = filter_dataframe(gpas, ['County', 'GPA', 'Campus'], status='Adm GPA', remove_dups=False)\n",
    "# take the average admitted gpa per county and campus\n",
    "gpas = gpas[['County', 'Campus', 'GPA']].groupby(['County', 'Campus']).mean().reset_index()\n",
    "# round all the GPAs into discrete buckets\n",
    "gpas['GPA'] = [bucket_gpa(gpa) for gpa in gpas['GPA']]\n",
    "gpas = gpas.drop_duplicates()\n",
    "print \"Number of rows in the set {0}\".format(gpas.size)"
   ]
  },
  {
   "cell_type": "code",
   "execution_count": null,
   "metadata": {
    "collapsed": false
   },
   "outputs": [],
   "source": [
    "gpas.head()"
   ]
  },
  {
   "cell_type": "code",
   "execution_count": null,
   "metadata": {
    "collapsed": false
   },
   "outputs": [],
   "source": [
    "sat_scores = pd.read_csv('../data/sat-report-2015-2016.csv')\n",
    "# columns to keep\n",
    "sat_scores = sat_scores[['AvgScrRead', 'AvgScrMath', 'AvgScrWrit', 'cname']]\n",
    "# rename for join\n",
    "sat_scores = sat_scores.rename(columns={'cname': 'County'})\n",
    "# drop any rows that do not have a school\n",
    "sat_scores = sat_scores[pd.notnull(sat_scores['County'])]\n",
    "# convert score cols to ints\n",
    "sat_scores['AvgScrRead'] = pd.to_numeric(sat_scores['AvgScrRead'], errors=coerce)\n",
    "sat_scores['AvgScrMath'] = pd.to_numeric(sat_scores['AvgScrMath'], errors=coerce)\n",
    "sat_scores['AvgScrWrit'] = pd.to_numeric(sat_scores['AvgScrWrit'], errors=coerce)\n",
    "# drop null cols\n",
    "sat_scores = sat_scores[pd.notnull(sat_scores['AvgScrRead'])]\n",
    "sat_scores = sat_scores[pd.notnull(sat_scores['AvgScrMath'])]\n",
    "sat_scores = sat_scores[pd.notnull(sat_scores['AvgScrWrit'])]\n",
    "# take the average sat score by county\n",
    "sat_scores = sat_scores.groupby('County').mean().reset_index()\n",
    "# bucket scores\n",
    "sat_scores['AvgScrRead'] = [bucket_sat_score(score) for score in sat_scores['AvgScrRead']]\n",
    "sat_scores['AvgScrMath'] = [bucket_sat_score(score) for score in sat_scores['AvgScrMath']]\n",
    "sat_scores['AvgScrWrit'] = [bucket_sat_score(score) for score in sat_scores['AvgScrWrit']]\n",
    "# remove duplicates\n",
    "sat_scores = sat_scores.drop_duplicates()\n",
    "sat_scores.head()"
   ]
  },
  {
   "cell_type": "code",
   "execution_count": null,
   "metadata": {
    "collapsed": false
   },
   "outputs": [],
   "source": [
    "print \"Number of rows in the set {0}\".format(sat_scores.size)\n",
    "print \"Number of unique counties {0}\".format(len(list(sat_scores['County'].unique())))"
   ]
  },
  {
   "cell_type": "code",
   "execution_count": null,
   "metadata": {
    "collapsed": true
   },
   "outputs": [],
   "source": [
    "join_cols = ['County']"
   ]
  },
  {
   "cell_type": "code",
   "execution_count": null,
   "metadata": {
    "collapsed": false
   },
   "outputs": [],
   "source": [
    "# join the datasets\n",
    "result = pd.merge(ethnicities, genders, on=join_cols)\n",
    "result = pd.merge(result, gpas, on=join_cols).drop_duplicates()\n",
    "result = pd.merge(result, sat_scores, on=join_cols).drop_duplicates()\n",
    "result.drop_duplicates(inplace=True)"
   ]
  },
  {
   "cell_type": "code",
   "execution_count": null,
   "metadata": {
    "collapsed": false
   },
   "outputs": [],
   "source": [
    "result.head()"
   ]
  },
  {
   "cell_type": "code",
   "execution_count": null,
   "metadata": {
    "collapsed": false
   },
   "outputs": [],
   "source": [
    "result.size"
   ]
  },
  {
   "cell_type": "code",
   "execution_count": null,
   "metadata": {
    "collapsed": false
   },
   "outputs": [],
   "source": [
    "result.describe()"
   ]
  },
  {
   "cell_type": "code",
   "execution_count": null,
   "metadata": {
    "collapsed": false
   },
   "outputs": [],
   "source": [
    "S3 = boto3.client('s3', region_name='eu-central-1')\n",
    "S3.upload_file('../data/sample-data.csv', 'gosat-data', 'sample-data.csv')"
   ]
  },
  {
   "cell_type": "code",
   "execution_count": null,
   "metadata": {
    "collapsed": true
   },
   "outputs": [],
   "source": [
    "result.to_csv('../data/applicant_admissions_data.csv')"
   ]
  },
  {
   "cell_type": "code",
   "execution_count": null,
   "metadata": {
    "collapsed": true
   },
   "outputs": [],
   "source": []
  }
 ],
 "metadata": {
  "anaconda-cloud": {},
  "kernelspec": {
   "display_name": "Python [default]",
   "language": "python",
   "name": "python2"
  },
  "language_info": {
   "codemirror_mode": {
    "name": "ipython",
    "version": 2
   },
   "file_extension": ".py",
   "mimetype": "text/x-python",
   "name": "python",
   "nbconvert_exporter": "python",
   "pygments_lexer": "ipython2",
   "version": "2.7.12"
  }
 },
 "nbformat": 4,
 "nbformat_minor": 1
}
