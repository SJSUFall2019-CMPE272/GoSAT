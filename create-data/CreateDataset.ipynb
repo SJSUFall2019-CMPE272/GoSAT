{
 "cells": [
  {
   "cell_type": "code",
   "execution_count": null,
   "metadata": {
    "collapsed": true
   },
   "outputs": [],
   "source": [
    "import boto3\n",
    "import numpy as np\n",
    "import pandas as pd"
   ]
  },
  {
   "cell_type": "code",
   "execution_count": null,
   "metadata": {
    "collapsed": false
   },
   "outputs": [],
   "source": [
    "# import data by ethnicity\n",
    "ethnicities = pd.read_csv('../data/fr-applicants-by-ethnicity.csv')\n",
    "ethnicities = ethnicities.rename(columns={'County/State/ Territory': 'County', 'Count': 'Status', 'Uad Uc Ethn 6 Cat': 'Ethnicity', 'Pivot Field Values': 'Count'})\n",
    "ethnicities = ethnicities[['Status', 'Fall Term', 'County', 'Ethnicity', 'Count']]\n",
    "# keep only admitted student data\n",
    "ethnicities = ethnicities[ethnicities['Status'] == 'Adm']\n",
    "ethnicities = ethnicities[ethnicities['Fall Term'] == 2016]\n",
    "ethnicities.drop(['Status', 'Fall Term'], axis=1, inplace=True)\n",
    "ethnicities = ethnicities.groupby(['County', 'Ethnicity']).sum().reset_index()"
   ]
  },
  {
   "cell_type": "code",
   "execution_count": null,
   "metadata": {
    "collapsed": false
   },
   "outputs": [],
   "source": [
    "ethnicities.head()"
   ]
  },
  {
   "cell_type": "code",
   "execution_count": null,
   "metadata": {
    "collapsed": false
   },
   "outputs": [],
   "source": [
    "ethnicities.size"
   ]
  },
  {
   "cell_type": "code",
   "execution_count": null,
   "metadata": {
    "collapsed": false
   },
   "outputs": [],
   "source": [
    "# import data by gender\n",
    "genders = pd.read_csv('../data/fr-applicants-by-gender.csv')\n",
    "genders = genders.rename(columns={'Count': 'Status', 'Pivot Field Values': 'Count', 'County/State/ Territory': 'County'})\n",
    "genders = genders[['Status', 'Fall Term', 'County', 'Gender', 'Count']]\n",
    "genders = genders[genders['Status'] == 'Adm']\n",
    "genders = genders[genders['Fall Term'] == 2016]\n",
    "genders.drop(['Status', 'Fall Term'], axis=1, inplace=True)\n",
    "genders = genders.groupby(['County', 'Gender']).sum().reset_index()"
   ]
  },
  {
   "cell_type": "code",
   "execution_count": null,
   "metadata": {
    "collapsed": false
   },
   "outputs": [],
   "source": [
    "genders.head()"
   ]
  },
  {
   "cell_type": "code",
   "execution_count": null,
   "metadata": {
    "collapsed": false
   },
   "outputs": [],
   "source": [
    "genders.size"
   ]
  },
  {
   "cell_type": "code",
   "execution_count": null,
   "metadata": {
    "collapsed": false
   },
   "outputs": [],
   "source": [
    "# import data by gpa\n",
    "gpas = pd.read_csv('../data/fr-applicants-by-gpa.csv')\n",
    "# filter any rows that do not have a GPA or school\n",
    "gpas = gpas[pd.notnull(gpas['School Name'])]\n",
    "gpas = gpas[pd.notnull(gpas['Measure Values'])]\n",
    "# only keep admitted applicant data\n",
    "gpas = gpas[gpas['Measure Names'] == 'Adm GPA']\n",
    "gpas = gpas[gpas['Fall Term'] == 2016]\n",
    "# rename columns\n",
    "gpas = gpas.rename(columns={'Measure Values': 'GPA', 'School Name': 'School'})\n",
    "gpas = gpas[['County', 'GPA', 'Campus']]"
   ]
  },
  {
   "cell_type": "code",
   "execution_count": null,
   "metadata": {
    "collapsed": false
   },
   "outputs": [],
   "source": [
    "len(gpas)"
   ]
  },
  {
   "cell_type": "code",
   "execution_count": null,
   "metadata": {
    "collapsed": false
   },
   "outputs": [],
   "source": [
    "gpas.head()"
   ]
  },
  {
   "cell_type": "code",
   "execution_count": null,
   "metadata": {
    "collapsed": false
   },
   "outputs": [],
   "source": [
    "sat_scores = pd.read_csv('../data/sat-report-2015-2016.csv')\n",
    "# columns to keep\n",
    "sat_scores = sat_scores[['AvgScrRead', 'AvgScrMath', 'AvgScrWrit', 'cname']]\n",
    "# rename for join\n",
    "sat_scores = sat_scores.rename(columns={'cname': 'County'})\n",
    "# drop any rows that do not have a school\n",
    "sat_scores = sat_scores[pd.notnull(sat_scores['County'])]\n",
    "# convert score cols to ints\n",
    "sat_scores['AvgScrRead'] = pd.to_numeric(sat_scores['AvgScrRead'], errors=coerce)\n",
    "sat_scores['AvgScrMath'] = pd.to_numeric(sat_scores['AvgScrMath'], errors=coerce)\n",
    "sat_scores['AvgScrWrit'] = pd.to_numeric(sat_scores['AvgScrWrit'], errors=coerce)\n",
    "# drop null cols\n",
    "sat_scores = sat_scores[pd.notnull(sat_scores['AvgScrRead'])]\n",
    "sat_scores = sat_scores[pd.notnull(sat_scores['AvgScrMath'])]\n",
    "sat_scores = sat_scores[pd.notnull(sat_scores['AvgScrWrit'])]\n",
    "sat_scores = sat_scores.groupby('County').mean().reset_index()\n",
    "sat_scores.head()"
   ]
  },
  {
   "cell_type": "code",
   "execution_count": null,
   "metadata": {
    "collapsed": false
   },
   "outputs": [],
   "source": [
    "len(sat_scores)"
   ]
  },
  {
   "cell_type": "code",
   "execution_count": null,
   "metadata": {
    "collapsed": true
   },
   "outputs": [],
   "source": [
    "join_cols = ['County']"
   ]
  },
  {
   "cell_type": "code",
   "execution_count": null,
   "metadata": {
    "collapsed": false
   },
   "outputs": [],
   "source": [
    "# join the datasets\n",
    "result = pd.merge(ethnicities, genders, on=join_cols)\n",
    "result = pd.merge(result, gpas, on=join_cols).drop_duplicates()\n",
    "result = pd.merge(result, sat_scores, on=join_cols).drop_duplicates()\n",
    "result['NumStudentsAccepted'] = result['Count_x'] + result['Count_y']\n",
    "result.drop(['Count_x', 'Count_y'], axis=1, inplace=True)\n",
    "result.drop_duplicates(inplace=True)"
   ]
  },
  {
   "cell_type": "code",
   "execution_count": null,
   "metadata": {
    "collapsed": false
   },
   "outputs": [],
   "source": [
    "result.head()"
   ]
  },
  {
   "cell_type": "code",
   "execution_count": null,
   "metadata": {
    "collapsed": false
   },
   "outputs": [],
   "source": [
    "result.size"
   ]
  },
  {
   "cell_type": "code",
   "execution_count": null,
   "metadata": {
    "collapsed": false
   },
   "outputs": [],
   "source": [
    "result.describe()"
   ]
  },
  {
   "cell_type": "code",
   "execution_count": null,
   "metadata": {
    "collapsed": false
   },
   "outputs": [],
   "source": [
    "counts = result[['NumStudentsAccepted', 'Campus', 'County']].groupby(['Campus', 'County']).sum().reset_index()\n",
    "counts.rename(columns={'NumStudentsAccepted': 'TotalStudentsAcceptedInTerm'}, inplace=True)\n",
    "counts.drop(['County'], axis=1, inplace=True)"
   ]
  },
  {
   "cell_type": "code",
   "execution_count": null,
   "metadata": {
    "collapsed": false
   },
   "outputs": [],
   "source": [
    "counts.head()"
   ]
  },
  {
   "cell_type": "code",
   "execution_count": null,
   "metadata": {
    "collapsed": false
   },
   "outputs": [],
   "source": [
    "# merge with dataset\n",
    "combined = pd.merge(result, counts, on=['Campus'])\n",
    "combined.head()"
   ]
  },
  {
   "cell_type": "code",
   "execution_count": null,
   "metadata": {
    "collapsed": false
   },
   "outputs": [],
   "source": [
    "combined.size"
   ]
  },
  {
   "cell_type": "code",
   "execution_count": null,
   "metadata": {
    "collapsed": false
   },
   "outputs": [],
   "source": [
    "combined.describe()"
   ]
  },
  {
   "cell_type": "code",
   "execution_count": null,
   "metadata": {
    "collapsed": false
   },
   "outputs": [],
   "source": [
    "# caluclate the predicted column\n",
    "combined['ProbabilityOfAcceptance'] = (combined['NumStudentsAccepted'] / combined['TotalStudentsAcceptedInTerm']) * 100\n",
    "combined.drop(['NumStudentsAccepted', 'TotalStudentsAcceptedInTerm'], axis=1, inplace=True)"
   ]
  },
  {
   "cell_type": "code",
   "execution_count": null,
   "metadata": {
    "collapsed": false
   },
   "outputs": [],
   "source": [
    "combined.head()"
   ]
  },
  {
   "cell_type": "code",
   "execution_count": null,
   "metadata": {
    "collapsed": true
   },
   "outputs": [],
   "source": [
    "# fill these columns in later\n",
    "combined['ACT'] = 0.0"
   ]
  },
  {
   "cell_type": "code",
   "execution_count": null,
   "metadata": {
    "collapsed": false
   },
   "outputs": [],
   "source": [
    "combined.head().to_csv('../data/sample-data.csv')"
   ]
  },
  {
   "cell_type": "code",
   "execution_count": null,
   "metadata": {
    "collapsed": false
   },
   "outputs": [],
   "source": [
    "combined.describe()"
   ]
  },
  {
   "cell_type": "code",
   "execution_count": null,
   "metadata": {
    "collapsed": false
   },
   "outputs": [],
   "source": [
    "S3 = boto3.client('s3', region_name='eu-central-1')\n",
    "S3.upload_file('../data/sample-data.csv', 'gosat-data', 'sample-data.csv')"
   ]
  },
  {
   "cell_type": "code",
   "execution_count": null,
   "metadata": {
    "collapsed": false
   },
   "outputs": [],
   "source": [
    "for campus in combined['Campus'].unique():\n",
    "    print(campus)"
   ]
  },
  {
   "cell_type": "code",
   "execution_count": null,
   "metadata": {
    "collapsed": true
   },
   "outputs": [],
   "source": []
  }
 ],
 "metadata": {
  "anaconda-cloud": {},
  "kernelspec": {
   "display_name": "Python [default]",
   "language": "python",
   "name": "python2"
  },
  "language_info": {
   "codemirror_mode": {
    "name": "ipython",
    "version": 2
   },
   "file_extension": ".py",
   "mimetype": "text/x-python",
   "name": "python",
   "nbconvert_exporter": "python",
   "pygments_lexer": "ipython2",
   "version": "2.7.12"
  }
 },
 "nbformat": 4,
 "nbformat_minor": 1
}
