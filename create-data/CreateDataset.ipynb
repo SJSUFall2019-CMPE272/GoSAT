{
 "cells": [
  {
   "cell_type": "code",
   "execution_count": 26,
   "metadata": {
    "collapsed": true
   },
   "outputs": [],
   "source": [
    "import boto3\n",
    "import numpy as np\n",
    "import pandas as pd"
   ]
  },
  {
   "cell_type": "markdown",
   "metadata": {},
   "source": [
    "#### Helper methods to filter and transform dataframes"
   ]
  },
  {
   "cell_type": "code",
   "execution_count": 27,
   "metadata": {
    "collapsed": false
   },
   "outputs": [],
   "source": [
    "# df should be a pandas dataframe\n",
    "# cols_to_keep should be a list of column strings present in df\n",
    "# assumes the input data frame will have a Status, Fall Term, and County columns\n",
    "# returns all rows in the dataframe where Status = Admitted and Fall Term = 2018\n",
    "# filters cols based on the cols_to_keep\n",
    "# removes duplicates if remove_dups is True (by default)\n",
    "def filter_dataframe(df, cols_to_keep, year=2016, remove_dups=True):\n",
    "    # take students who were admitted or applied\n",
    "    df = df[(df['Status'] == 'Adm') | (df['Status'] == 'App')]\n",
    "    # only look at the most recent admits\n",
    "    # df = df[df['Fall Term'] ==  year]\n",
    "    # filter columns\n",
    "    df = df[cols_to_keep]\n",
    "    \n",
    "    if remove_dups:\n",
    "        # remove duplicates\n",
    "        df = df.drop_duplicates()\n",
    "    \n",
    "    print \"Number of rows in the set {0}\".format(df.size)\n",
    "    print \"Number of unique counties {0}\".format(len(list(df['County'].unique())))\n",
    "    \n",
    "    return df"
   ]
  },
  {
   "cell_type": "code",
   "execution_count": 28,
   "metadata": {
    "collapsed": false
   },
   "outputs": [],
   "source": [
    "# transform gpas into discrete buckets\n",
    "# round down to the lower bucket for each range\n",
    "# buckets are low (1), medium (2), high (3)\n",
    "# min GPA = 3.24, max GPA = 4.35, stddev = 0.2134\n",
    "def bucket_gpa(gpa):\n",
    "    if gpa >= 3.0 and gpa < 3.2:\n",
    "        return 1\n",
    "\n",
    "    if gpa >= 3.2 and gpa < 3.4:\n",
    "        return 1\n",
    "\n",
    "    if gpa >= 3.4 and gpa < 3.6:\n",
    "        return 2\n",
    "\n",
    "    if gpa >= 3.6 and gpa < 3.8:\n",
    "        return 2\n",
    "\n",
    "    if gpa >= 3.8 and gpa < 4.0:\n",
    "        return 2\n",
    "\n",
    "    if gpa >= 4.0 and gpa < 4.2:\n",
    "        return 3\n",
    "\n",
    "    return 3"
   ]
  },
  {
   "cell_type": "code",
   "execution_count": 29,
   "metadata": {
    "collapsed": true
   },
   "outputs": [],
   "source": [
    "# transform sat scores into discrete buckets\n",
    "# low (1), med (2), high (3)\n",
    "# min score = 440 and max score = 550\n",
    "def bucket_sat_score(score):\n",
    "    if score >= 400 and score < 440:\n",
    "        return 1\n",
    "\n",
    "    if score >= 440 and score < 460:\n",
    "        return 1\n",
    "    \n",
    "    if score >= 460 and score < 480:\n",
    "        return 2\n",
    "    \n",
    "    if score >= 480 and score < 500:\n",
    "        return 2\n",
    "    \n",
    "    if score >= 500 and score < 520:\n",
    "        return 2\n",
    "    \n",
    "    if score >= 520 and score < 540:\n",
    "        return 3\n",
    "    \n",
    "    return 3"
   ]
  },
  {
   "cell_type": "markdown",
   "metadata": {},
   "source": [
    "#### Ingest and Format Admit Ethnicity Data\n",
    "#### Resulting DataFrame should have County and Ethnicity of all 2018 Admitted UC students"
   ]
  },
  {
   "cell_type": "code",
   "execution_count": 30,
   "metadata": {
    "collapsed": false
   },
   "outputs": [
    {
     "name": "stdout",
     "output_type": "stream",
     "text": [
      "Number of rows in the set 1275\n",
      "Number of unique counties 57\n"
     ]
    }
   ],
   "source": [
    "# import data by ethnicity\n",
    "ethnicities = pd.read_csv('../data/HS_ethnicity_by_year_data.csv')\n",
    "# rename County, Status, and Ethnicity Columns\n",
    "ethnicities = ethnicities.rename(columns={'County/State/ Territory': 'County', 'Count': 'Status', 'Uad Uc Ethn 6 Cat': 'Ethnicity', 'Pivot Field Values': 'Count'})\n",
    "# further filter rows\n",
    "# only keep rows that have a county\n",
    "ethnicities = ethnicities[pd.notnull(ethnicities['County'])]\n",
    "ethnicities = filter_dataframe(ethnicities, ['County', 'Ethnicity', 'Status'])"
   ]
  },
  {
   "cell_type": "code",
   "execution_count": 31,
   "metadata": {
    "collapsed": false
   },
   "outputs": [
    {
     "data": {
      "text/html": [
       "<div>\n",
       "<table border=\"1\" class=\"dataframe\">\n",
       "  <thead>\n",
       "    <tr style=\"text-align: right;\">\n",
       "      <th></th>\n",
       "      <th>County</th>\n",
       "      <th>Ethnicity</th>\n",
       "      <th>Status</th>\n",
       "    </tr>\n",
       "  </thead>\n",
       "  <tbody>\n",
       "    <tr>\n",
       "      <th>71</th>\n",
       "      <td>TX</td>\n",
       "      <td>White</td>\n",
       "      <td>Adm</td>\n",
       "    </tr>\n",
       "    <tr>\n",
       "      <th>72</th>\n",
       "      <td>TX</td>\n",
       "      <td>Asian</td>\n",
       "      <td>Adm</td>\n",
       "    </tr>\n",
       "    <tr>\n",
       "      <th>73</th>\n",
       "      <td>TX</td>\n",
       "      <td>Asian</td>\n",
       "      <td>App</td>\n",
       "    </tr>\n",
       "    <tr>\n",
       "      <th>74</th>\n",
       "      <td>TX</td>\n",
       "      <td>All</td>\n",
       "      <td>Adm</td>\n",
       "    </tr>\n",
       "    <tr>\n",
       "      <th>75</th>\n",
       "      <td>TX</td>\n",
       "      <td>All</td>\n",
       "      <td>App</td>\n",
       "    </tr>\n",
       "  </tbody>\n",
       "</table>\n",
       "</div>"
      ],
      "text/plain": [
       "   County Ethnicity Status\n",
       "71     TX     White    Adm\n",
       "72     TX     Asian    Adm\n",
       "73     TX     Asian    App\n",
       "74     TX       All    Adm\n",
       "75     TX       All    App"
      ]
     },
     "execution_count": 31,
     "metadata": {},
     "output_type": "execute_result"
    }
   ],
   "source": [
    "ethnicities.head()"
   ]
  },
  {
   "cell_type": "code",
   "execution_count": 32,
   "metadata": {
    "collapsed": false
   },
   "outputs": [
    {
     "name": "stdout",
     "output_type": "stream",
     "text": [
      "Number of rows in the set 999\n",
      "Number of unique counties 55\n"
     ]
    }
   ],
   "source": [
    "# import data by gender\n",
    "genders = pd.read_csv('../data/FR_GENDER_data.csv')\n",
    "genders = genders.rename(columns={'Count': 'Status', 'Pivot Field Values': 'Count', 'County/State/ Territory': 'County'})\n",
    "genders['Fall Term'] = 2016\n",
    "genders = filter_dataframe(genders, ['County', 'Gender', 'Status'])"
   ]
  },
  {
   "cell_type": "code",
   "execution_count": 33,
   "metadata": {
    "collapsed": false
   },
   "outputs": [
    {
     "data": {
      "text/html": [
       "<div>\n",
       "<table border=\"1\" class=\"dataframe\">\n",
       "  <thead>\n",
       "    <tr style=\"text-align: right;\">\n",
       "      <th></th>\n",
       "      <th>County</th>\n",
       "      <th>Gender</th>\n",
       "      <th>Status</th>\n",
       "    </tr>\n",
       "  </thead>\n",
       "  <tbody>\n",
       "    <tr>\n",
       "      <th>1</th>\n",
       "      <td>Los Angeles</td>\n",
       "      <td>Male</td>\n",
       "      <td>Adm</td>\n",
       "    </tr>\n",
       "    <tr>\n",
       "      <th>2</th>\n",
       "      <td>Los Angeles</td>\n",
       "      <td>Male</td>\n",
       "      <td>App</td>\n",
       "    </tr>\n",
       "    <tr>\n",
       "      <th>4</th>\n",
       "      <td>Los Angeles</td>\n",
       "      <td>Female</td>\n",
       "      <td>Adm</td>\n",
       "    </tr>\n",
       "    <tr>\n",
       "      <th>5</th>\n",
       "      <td>Los Angeles</td>\n",
       "      <td>Female</td>\n",
       "      <td>App</td>\n",
       "    </tr>\n",
       "    <tr>\n",
       "      <th>7</th>\n",
       "      <td>Los Angeles</td>\n",
       "      <td>All</td>\n",
       "      <td>Adm</td>\n",
       "    </tr>\n",
       "  </tbody>\n",
       "</table>\n",
       "</div>"
      ],
      "text/plain": [
       "        County  Gender Status\n",
       "1  Los Angeles    Male    Adm\n",
       "2  Los Angeles    Male    App\n",
       "4  Los Angeles  Female    Adm\n",
       "5  Los Angeles  Female    App\n",
       "7  Los Angeles     All    Adm"
      ]
     },
     "execution_count": 33,
     "metadata": {},
     "output_type": "execute_result"
    }
   ],
   "source": [
    "genders.head()"
   ]
  },
  {
   "cell_type": "markdown",
   "metadata": {},
   "source": [
    "#### Min GPA for 2018 admits is 3.24\n",
    "#### Max GPA for 2018 admits is 4.35"
   ]
  },
  {
   "cell_type": "code",
   "execution_count": 34,
   "metadata": {
    "collapsed": false
   },
   "outputs": [
    {
     "name": "stdout",
     "output_type": "stream",
     "text": [
      "Number of rows in the set 117572\n",
      "Number of unique counties 30\n",
      "Number of rows in the set 2116\n"
     ]
    }
   ],
   "source": [
    "# import data by gpa\n",
    "gpas = pd.read_csv('../data/FR_GPA_by_Inst_data.csv')\n",
    "# rename columns\n",
    "gpas = gpas.rename(columns={'Measure Values': 'GPA', 'School Name': 'School', 'Measure Names': 'Status'})\n",
    "# filter any rows that do not have a GPA or county\n",
    "gpas = gpas[pd.notnull(gpas['GPA'])]\n",
    "gpas = gpas[gpas['County'] != 'Not Applicable']\n",
    "# transform status to match the other datasets\n",
    "gpas['Status'] = [status.replace('GPA', '').strip() for status in gpas['Status']]\n",
    "gpas = filter_dataframe(gpas, ['County', 'GPA', 'Campus', 'Status'], remove_dups=False)\n",
    "# take the average admitted gpa per county and campus\n",
    "gpas = gpas.groupby(['County', 'Campus', 'Status']).mean().reset_index()\n",
    "# round all the GPAs into discrete buckets\n",
    "#gpas['GPA'] = [bucket_gpa(gpa) for gpa in gpas['GPA']]\n",
    "gpas = gpas.drop_duplicates()\n",
    "print \"Number of rows in the set {0}\".format(gpas.size)"
   ]
  },
  {
   "cell_type": "code",
   "execution_count": 35,
   "metadata": {
    "collapsed": false
   },
   "outputs": [
    {
     "data": {
      "text/html": [
       "<div>\n",
       "<table border=\"1\" class=\"dataframe\">\n",
       "  <thead>\n",
       "    <tr style=\"text-align: right;\">\n",
       "      <th></th>\n",
       "      <th>County</th>\n",
       "      <th>Campus</th>\n",
       "      <th>Status</th>\n",
       "      <th>GPA</th>\n",
       "    </tr>\n",
       "  </thead>\n",
       "  <tbody>\n",
       "    <tr>\n",
       "      <th>0</th>\n",
       "      <td>Alameda</td>\n",
       "      <td>Berkeley</td>\n",
       "      <td>Adm</td>\n",
       "      <td>4.151266</td>\n",
       "    </tr>\n",
       "    <tr>\n",
       "      <th>1</th>\n",
       "      <td>Alameda</td>\n",
       "      <td>Berkeley</td>\n",
       "      <td>App</td>\n",
       "      <td>3.809248</td>\n",
       "    </tr>\n",
       "    <tr>\n",
       "      <th>2</th>\n",
       "      <td>Alameda</td>\n",
       "      <td>Davis</td>\n",
       "      <td>Adm</td>\n",
       "      <td>4.001074</td>\n",
       "    </tr>\n",
       "    <tr>\n",
       "      <th>3</th>\n",
       "      <td>Alameda</td>\n",
       "      <td>Davis</td>\n",
       "      <td>App</td>\n",
       "      <td>3.735423</td>\n",
       "    </tr>\n",
       "    <tr>\n",
       "      <th>4</th>\n",
       "      <td>Alameda</td>\n",
       "      <td>Irvine</td>\n",
       "      <td>Adm</td>\n",
       "      <td>3.957081</td>\n",
       "    </tr>\n",
       "  </tbody>\n",
       "</table>\n",
       "</div>"
      ],
      "text/plain": [
       "    County    Campus Status       GPA\n",
       "0  Alameda  Berkeley    Adm  4.151266\n",
       "1  Alameda  Berkeley    App  3.809248\n",
       "2  Alameda     Davis    Adm  4.001074\n",
       "3  Alameda     Davis    App  3.735423\n",
       "4  Alameda    Irvine    Adm  3.957081"
      ]
     },
     "execution_count": 35,
     "metadata": {},
     "output_type": "execute_result"
    }
   ],
   "source": [
    "gpas.head()"
   ]
  },
  {
   "cell_type": "markdown",
   "metadata": {},
   "source": [
    "#### SAT Score Source data\n",
    "#### https://data.world/education/california-sat-report-2015-2016/workspace/project-summary?agentid=education&datasetid=california-sat-report-2015-2016"
   ]
  },
  {
   "cell_type": "code",
   "execution_count": 36,
   "metadata": {
    "collapsed": false
   },
   "outputs": [
    {
     "data": {
      "text/html": [
       "<div>\n",
       "<table border=\"1\" class=\"dataframe\">\n",
       "  <thead>\n",
       "    <tr style=\"text-align: right;\">\n",
       "      <th></th>\n",
       "      <th>AvgScrRead</th>\n",
       "      <th>AvgScrMath</th>\n",
       "      <th>AvgScrWrit</th>\n",
       "      <th>County</th>\n",
       "    </tr>\n",
       "  </thead>\n",
       "  <tbody>\n",
       "    <tr>\n",
       "      <th>1</th>\n",
       "      <td>517.0</td>\n",
       "      <td>534.0</td>\n",
       "      <td>515.0</td>\n",
       "      <td>Alameda</td>\n",
       "    </tr>\n",
       "    <tr>\n",
       "      <th>89</th>\n",
       "      <td>534.0</td>\n",
       "      <td>525.0</td>\n",
       "      <td>510.0</td>\n",
       "      <td>Amador</td>\n",
       "    </tr>\n",
       "    <tr>\n",
       "      <th>95</th>\n",
       "      <td>508.0</td>\n",
       "      <td>522.0</td>\n",
       "      <td>490.0</td>\n",
       "      <td>Butte</td>\n",
       "    </tr>\n",
       "    <tr>\n",
       "      <th>119</th>\n",
       "      <td>512.0</td>\n",
       "      <td>515.0</td>\n",
       "      <td>499.0</td>\n",
       "      <td>Calaveras</td>\n",
       "    </tr>\n",
       "    <tr>\n",
       "      <th>126</th>\n",
       "      <td>454.0</td>\n",
       "      <td>461.0</td>\n",
       "      <td>451.0</td>\n",
       "      <td>Colusa</td>\n",
       "    </tr>\n",
       "  </tbody>\n",
       "</table>\n",
       "</div>"
      ],
      "text/plain": [
       "     AvgScrRead  AvgScrMath  AvgScrWrit     County\n",
       "1         517.0       534.0       515.0    Alameda\n",
       "89        534.0       525.0       510.0     Amador\n",
       "95        508.0       522.0       490.0      Butte\n",
       "119       512.0       515.0       499.0  Calaveras\n",
       "126       454.0       461.0       451.0     Colusa"
      ]
     },
     "execution_count": 36,
     "metadata": {},
     "output_type": "execute_result"
    }
   ],
   "source": [
    "sat_scores = pd.read_csv('../data/sat-report-2015-2016.csv')\n",
    "# rtype = Record Type: C=County, D=District, S=School, X=State\n",
    "sat_scores = sat_scores[sat_scores['rtype'] == 'C']\n",
    "# columns to keep\n",
    "sat_scores = sat_scores[['AvgScrRead', 'AvgScrMath', 'AvgScrWrit', 'cname']]\n",
    "# rename for join\n",
    "sat_scores = sat_scores.rename(columns={'cname': 'County'})\n",
    "# drop any rows that do not have a school\n",
    "sat_scores = sat_scores[pd.notnull(sat_scores['County'])]\n",
    "# convert score cols to ints\n",
    "sat_scores['AvgScrRead'] = pd.to_numeric(sat_scores['AvgScrRead'], errors=coerce)\n",
    "sat_scores['AvgScrMath'] = pd.to_numeric(sat_scores['AvgScrMath'], errors=coerce)\n",
    "sat_scores['AvgScrWrit'] = pd.to_numeric(sat_scores['AvgScrWrit'], errors=coerce)\n",
    "# drop null cols\n",
    "sat_scores = sat_scores[pd.notnull(sat_scores['AvgScrRead'])]\n",
    "sat_scores = sat_scores[pd.notnull(sat_scores['AvgScrMath'])]\n",
    "sat_scores = sat_scores[pd.notnull(sat_scores['AvgScrWrit'])]\n",
    "# bucket scores\n",
    "#sat_scores['AvgScrRead'] = [bucket_sat_score(score) for score in sat_scores['AvgScrRead']]\n",
    "#sat_scores['AvgScrMath'] = [bucket_sat_score(score) for score in sat_scores['AvgScrMath']]\n",
    "#sat_scores['AvgScrWrit'] = [bucket_sat_score(score) for score in sat_scores['AvgScrWrit']]\n",
    "# remove duplicates\n",
    "sat_scores = sat_scores.drop_duplicates()\n",
    "sat_scores.head()"
   ]
  },
  {
   "cell_type": "code",
   "execution_count": 37,
   "metadata": {
    "collapsed": false
   },
   "outputs": [
    {
     "name": "stdout",
     "output_type": "stream",
     "text": [
      "Number of rows in the set 224\n",
      "Number of unique counties 56\n"
     ]
    }
   ],
   "source": [
    "print \"Number of rows in the set {0}\".format(sat_scores.size)\n",
    "print \"Number of unique counties {0}\".format(len(list(sat_scores['County'].unique())))"
   ]
  },
  {
   "cell_type": "code",
   "execution_count": 38,
   "metadata": {
    "collapsed": false
   },
   "outputs": [],
   "source": [
    "# join the datasets\n",
    "result = pd.merge(ethnicities, genders, on=['County', 'Status'])\n",
    "result = pd.merge(result, gpas, on=['County', 'Status']).drop_duplicates()\n",
    "\n",
    "# SAT scores do not have admittance data, so assume all applicants from\n",
    "# the same county have the same SAT scores\n",
    "result = pd.merge(result, sat_scores, on=['County']).drop_duplicates()\n",
    "\n",
    "# convert admitted and applied to labels\n",
    "# 0 for applied, 1 for admitted\n",
    "result['Status'] = [0 if status == 'App' else 1 for status in result['Status']]\n",
    "result.drop_duplicates(inplace=True)"
   ]
  },
  {
   "cell_type": "code",
   "execution_count": 39,
   "metadata": {
    "collapsed": false
   },
   "outputs": [
    {
     "data": {
      "text/html": [
       "<div>\n",
       "<table border=\"1\" class=\"dataframe\">\n",
       "  <thead>\n",
       "    <tr style=\"text-align: right;\">\n",
       "      <th></th>\n",
       "      <th>County</th>\n",
       "      <th>Ethnicity</th>\n",
       "      <th>Status</th>\n",
       "      <th>Gender</th>\n",
       "      <th>Campus</th>\n",
       "      <th>GPA</th>\n",
       "      <th>AvgScrRead</th>\n",
       "      <th>AvgScrMath</th>\n",
       "      <th>AvgScrWrit</th>\n",
       "    </tr>\n",
       "  </thead>\n",
       "  <tbody>\n",
       "    <tr>\n",
       "      <th>0</th>\n",
       "      <td>San Bernardino</td>\n",
       "      <td>Domestic Unknown</td>\n",
       "      <td>1</td>\n",
       "      <td>Male</td>\n",
       "      <td>Berkeley</td>\n",
       "      <td>4.134665</td>\n",
       "      <td>462.0</td>\n",
       "      <td>470.0</td>\n",
       "      <td>453.0</td>\n",
       "    </tr>\n",
       "    <tr>\n",
       "      <th>1</th>\n",
       "      <td>San Bernardino</td>\n",
       "      <td>Domestic Unknown</td>\n",
       "      <td>1</td>\n",
       "      <td>Male</td>\n",
       "      <td>Davis</td>\n",
       "      <td>3.969556</td>\n",
       "      <td>462.0</td>\n",
       "      <td>470.0</td>\n",
       "      <td>453.0</td>\n",
       "    </tr>\n",
       "    <tr>\n",
       "      <th>2</th>\n",
       "      <td>San Bernardino</td>\n",
       "      <td>Domestic Unknown</td>\n",
       "      <td>1</td>\n",
       "      <td>Male</td>\n",
       "      <td>Irvine</td>\n",
       "      <td>3.966652</td>\n",
       "      <td>462.0</td>\n",
       "      <td>470.0</td>\n",
       "      <td>453.0</td>\n",
       "    </tr>\n",
       "    <tr>\n",
       "      <th>3</th>\n",
       "      <td>San Bernardino</td>\n",
       "      <td>Domestic Unknown</td>\n",
       "      <td>1</td>\n",
       "      <td>Male</td>\n",
       "      <td>Los Angeles</td>\n",
       "      <td>4.131310</td>\n",
       "      <td>462.0</td>\n",
       "      <td>470.0</td>\n",
       "      <td>453.0</td>\n",
       "    </tr>\n",
       "    <tr>\n",
       "      <th>4</th>\n",
       "      <td>San Bernardino</td>\n",
       "      <td>Domestic Unknown</td>\n",
       "      <td>1</td>\n",
       "      <td>Male</td>\n",
       "      <td>Merced</td>\n",
       "      <td>3.523493</td>\n",
       "      <td>462.0</td>\n",
       "      <td>470.0</td>\n",
       "      <td>453.0</td>\n",
       "    </tr>\n",
       "  </tbody>\n",
       "</table>\n",
       "</div>"
      ],
      "text/plain": [
       "           County         Ethnicity  Status Gender       Campus       GPA  \\\n",
       "0  San Bernardino  Domestic Unknown       1   Male     Berkeley  4.134665   \n",
       "1  San Bernardino  Domestic Unknown       1   Male        Davis  3.969556   \n",
       "2  San Bernardino  Domestic Unknown       1   Male       Irvine  3.966652   \n",
       "3  San Bernardino  Domestic Unknown       1   Male  Los Angeles  4.131310   \n",
       "4  San Bernardino  Domestic Unknown       1   Male       Merced  3.523493   \n",
       "\n",
       "   AvgScrRead  AvgScrMath  AvgScrWrit  \n",
       "0       462.0       470.0       453.0  \n",
       "1       462.0       470.0       453.0  \n",
       "2       462.0       470.0       453.0  \n",
       "3       462.0       470.0       453.0  \n",
       "4       462.0       470.0       453.0  "
      ]
     },
     "execution_count": 39,
     "metadata": {},
     "output_type": "execute_result"
    }
   ],
   "source": [
    "result.head()"
   ]
  },
  {
   "cell_type": "code",
   "execution_count": 40,
   "metadata": {
    "collapsed": false
   },
   "outputs": [
    {
     "data": {
      "text/plain": [
       "73764"
      ]
     },
     "execution_count": 40,
     "metadata": {},
     "output_type": "execute_result"
    }
   ],
   "source": [
    "result.size"
   ]
  },
  {
   "cell_type": "code",
   "execution_count": 41,
   "metadata": {
    "collapsed": false
   },
   "outputs": [
    {
     "name": "stdout",
     "output_type": "stream",
     "text": [
      "Total number of admitted students 4270\n"
     ]
    }
   ],
   "source": [
    "print (\"Total number of admitted students {0}\".format(len(result[result['Status'] == 1])))"
   ]
  },
  {
   "cell_type": "code",
   "execution_count": 42,
   "metadata": {
    "collapsed": false
   },
   "outputs": [
    {
     "name": "stdout",
     "output_type": "stream",
     "text": [
      "Total number of applied students 3926\n"
     ]
    }
   ],
   "source": [
    "print (\"Total number of applied students {0}\".format(len(result[result['Status'] == 0])))"
   ]
  },
  {
   "cell_type": "code",
   "execution_count": 43,
   "metadata": {
    "collapsed": false
   },
   "outputs": [
    {
     "data": {
      "text/html": [
       "<div>\n",
       "<table border=\"1\" class=\"dataframe\">\n",
       "  <thead>\n",
       "    <tr style=\"text-align: right;\">\n",
       "      <th></th>\n",
       "      <th>Status</th>\n",
       "      <th>GPA</th>\n",
       "      <th>AvgScrRead</th>\n",
       "      <th>AvgScrMath</th>\n",
       "      <th>AvgScrWrit</th>\n",
       "    </tr>\n",
       "  </thead>\n",
       "  <tbody>\n",
       "    <tr>\n",
       "      <th>count</th>\n",
       "      <td>8196.000000</td>\n",
       "      <td>8196.000000</td>\n",
       "      <td>8196.000000</td>\n",
       "      <td>8196.000000</td>\n",
       "      <td>8196.000000</td>\n",
       "    </tr>\n",
       "    <tr>\n",
       "      <th>mean</th>\n",
       "      <td>0.520986</td>\n",
       "      <td>3.800246</td>\n",
       "      <td>501.328819</td>\n",
       "      <td>512.480600</td>\n",
       "      <td>493.615544</td>\n",
       "    </tr>\n",
       "    <tr>\n",
       "      <th>std</th>\n",
       "      <td>0.499590</td>\n",
       "      <td>0.213962</td>\n",
       "      <td>25.816943</td>\n",
       "      <td>29.018039</td>\n",
       "      <td>26.924081</td>\n",
       "    </tr>\n",
       "    <tr>\n",
       "      <th>min</th>\n",
       "      <td>0.000000</td>\n",
       "      <td>3.196667</td>\n",
       "      <td>459.000000</td>\n",
       "      <td>457.000000</td>\n",
       "      <td>448.000000</td>\n",
       "    </tr>\n",
       "    <tr>\n",
       "      <th>25%</th>\n",
       "      <td>0.000000</td>\n",
       "      <td>3.644251</td>\n",
       "      <td>477.000000</td>\n",
       "      <td>496.000000</td>\n",
       "      <td>470.000000</td>\n",
       "    </tr>\n",
       "    <tr>\n",
       "      <th>50%</th>\n",
       "      <td>1.000000</td>\n",
       "      <td>3.792978</td>\n",
       "      <td>505.000000</td>\n",
       "      <td>514.000000</td>\n",
       "      <td>499.000000</td>\n",
       "    </tr>\n",
       "    <tr>\n",
       "      <th>75%</th>\n",
       "      <td>1.000000</td>\n",
       "      <td>3.953226</td>\n",
       "      <td>517.000000</td>\n",
       "      <td>534.000000</td>\n",
       "      <td>511.000000</td>\n",
       "    </tr>\n",
       "    <tr>\n",
       "      <th>max</th>\n",
       "      <td>1.000000</td>\n",
       "      <td>4.284815</td>\n",
       "      <td>548.000000</td>\n",
       "      <td>575.000000</td>\n",
       "      <td>549.000000</td>\n",
       "    </tr>\n",
       "  </tbody>\n",
       "</table>\n",
       "</div>"
      ],
      "text/plain": [
       "            Status          GPA   AvgScrRead   AvgScrMath   AvgScrWrit\n",
       "count  8196.000000  8196.000000  8196.000000  8196.000000  8196.000000\n",
       "mean      0.520986     3.800246   501.328819   512.480600   493.615544\n",
       "std       0.499590     0.213962    25.816943    29.018039    26.924081\n",
       "min       0.000000     3.196667   459.000000   457.000000   448.000000\n",
       "25%       0.000000     3.644251   477.000000   496.000000   470.000000\n",
       "50%       1.000000     3.792978   505.000000   514.000000   499.000000\n",
       "75%       1.000000     3.953226   517.000000   534.000000   511.000000\n",
       "max       1.000000     4.284815   548.000000   575.000000   549.000000"
      ]
     },
     "execution_count": 43,
     "metadata": {},
     "output_type": "execute_result"
    }
   ],
   "source": [
    "result.describe()"
   ]
  },
  {
   "cell_type": "markdown",
   "metadata": {},
   "source": [
    "#### Resulting dataset has 2,485 rows\n",
    "#### With county, ethnicity, gender, UC campus, GPA, SAT scores, and calculated admittance rate"
   ]
  },
  {
   "cell_type": "code",
   "execution_count": 44,
   "metadata": {
    "collapsed": true
   },
   "outputs": [],
   "source": [
    "result.to_csv('../data/applicant_admissions_data.csv')"
   ]
  },
  {
   "cell_type": "code",
   "execution_count": 45,
   "metadata": {
    "collapsed": false
   },
   "outputs": [],
   "source": [
    "S3 = boto3.client('s3', region_name='eu-central-1')\n",
    "S3.upload_file('../data/applicant_admissions_data.csv', 'gosat-data', 'applicant_admissions_data.csv')"
   ]
  },
  {
   "cell_type": "code",
   "execution_count": 46,
   "metadata": {
    "collapsed": false
   },
   "outputs": [
    {
     "data": {
      "text/plain": [
       "count               8196\n",
       "unique                10\n",
       "top       Universitywide\n",
       "freq                 852\n",
       "Name: Campus, dtype: object"
      ]
     },
     "execution_count": 46,
     "metadata": {},
     "output_type": "execute_result"
    }
   ],
   "source": [
    "result['Campus'].describe()"
   ]
  },
  {
   "cell_type": "code",
   "execution_count": 47,
   "metadata": {
    "collapsed": false
   },
   "outputs": [
    {
     "data": {
      "text/html": [
       "<div>\n",
       "<table border=\"1\" class=\"dataframe\">\n",
       "  <thead>\n",
       "    <tr style=\"text-align: right;\">\n",
       "      <th></th>\n",
       "      <th>Campus</th>\n",
       "      <th>Number of Admits</th>\n",
       "    </tr>\n",
       "  </thead>\n",
       "  <tbody>\n",
       "    <tr>\n",
       "      <th>0</th>\n",
       "      <td>Berkeley</td>\n",
       "      <td>409</td>\n",
       "    </tr>\n",
       "    <tr>\n",
       "      <th>1</th>\n",
       "      <td>Davis</td>\n",
       "      <td>448</td>\n",
       "    </tr>\n",
       "    <tr>\n",
       "      <th>2</th>\n",
       "      <td>Irvine</td>\n",
       "      <td>409</td>\n",
       "    </tr>\n",
       "    <tr>\n",
       "      <th>3</th>\n",
       "      <td>Los Angeles</td>\n",
       "      <td>409</td>\n",
       "    </tr>\n",
       "    <tr>\n",
       "      <th>4</th>\n",
       "      <td>Merced</td>\n",
       "      <td>421</td>\n",
       "    </tr>\n",
       "    <tr>\n",
       "      <th>5</th>\n",
       "      <td>Riverside</td>\n",
       "      <td>409</td>\n",
       "    </tr>\n",
       "    <tr>\n",
       "      <th>6</th>\n",
       "      <td>San Diego</td>\n",
       "      <td>424</td>\n",
       "    </tr>\n",
       "    <tr>\n",
       "      <th>7</th>\n",
       "      <td>Santa Barbara</td>\n",
       "      <td>439</td>\n",
       "    </tr>\n",
       "    <tr>\n",
       "      <th>8</th>\n",
       "      <td>Santa Cruz</td>\n",
       "      <td>448</td>\n",
       "    </tr>\n",
       "    <tr>\n",
       "      <th>9</th>\n",
       "      <td>Universitywide</td>\n",
       "      <td>454</td>\n",
       "    </tr>\n",
       "  </tbody>\n",
       "</table>\n",
       "</div>"
      ],
      "text/plain": [
       "           Campus  Number of Admits\n",
       "0        Berkeley               409\n",
       "1           Davis               448\n",
       "2          Irvine               409\n",
       "3     Los Angeles               409\n",
       "4          Merced               421\n",
       "5       Riverside               409\n",
       "6       San Diego               424\n",
       "7   Santa Barbara               439\n",
       "8      Santa Cruz               448\n",
       "9  Universitywide               454"
      ]
     },
     "execution_count": 47,
     "metadata": {},
     "output_type": "execute_result"
    }
   ],
   "source": [
    "result[result['Status'] == 1] \\\n",
    "    .groupby('Campus') \\\n",
    "    .count() \\\n",
    "    .reset_index()[['Campus', 'County']] \\\n",
    "    .rename(columns={'County': 'Number of Admits'})"
   ]
  },
  {
   "cell_type": "code",
   "execution_count": null,
   "metadata": {
    "collapsed": true
   },
   "outputs": [],
   "source": []
  }
 ],
 "metadata": {
  "anaconda-cloud": {},
  "kernelspec": {
   "display_name": "Python [conda env:anaconda]",
   "language": "python",
   "name": "conda-env-anaconda-py"
  },
  "language_info": {
   "codemirror_mode": {
    "name": "ipython",
    "version": 2
   },
   "file_extension": ".py",
   "mimetype": "text/x-python",
   "name": "python",
   "nbconvert_exporter": "python",
   "pygments_lexer": "ipython2",
   "version": "2.7.12"
  }
 },
 "nbformat": 4,
 "nbformat_minor": 1
}
