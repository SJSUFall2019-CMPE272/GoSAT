{
 "cells": [
  {
   "cell_type": "code",
   "execution_count": 1,
   "metadata": {
    "collapsed": true
   },
   "outputs": [],
   "source": [
    "import boto3\n",
    "import numpy as np\n",
    "import pandas as pd"
   ]
  },
  {
   "cell_type": "markdown",
   "metadata": {},
   "source": [
    "#### Helper methods to filter and transform dataframes"
   ]
  },
  {
   "cell_type": "code",
   "execution_count": 2,
   "metadata": {
    "collapsed": false
   },
   "outputs": [],
   "source": [
    "# df should be a pandas dataframe\n",
    "# cols_to_keep should be a list of column strings present in df\n",
    "# assumes the input data frame will have a Status, Fall Term, and County columns\n",
    "# returns all rows in the dataframe where Status = Admitted and Fall Term = 2018\n",
    "# filters cols based on the cols_to_keep\n",
    "# removes duplicates if remove_dups is True (by default)\n",
    "def filter_dataframe(df, cols_to_keep, year=2016, remove_dups=True):\n",
    "    # take students who were admitted or applied\n",
    "    df = df[(df['Status'] == 'Adm') | (df['Status'] == 'App')]\n",
    "    # only look at the most recent admits\n",
    "    df = df[df['Fall Term'] ==  year]\n",
    "    # filter columns\n",
    "    df = df[cols_to_keep]\n",
    "    \n",
    "    if remove_dups:\n",
    "        # remove duplicates\n",
    "        df = df.drop_duplicates()\n",
    "    \n",
    "    print \"Number of rows in the set {0}\".format(df.size)\n",
    "    print \"Number of unique counties {0}\".format(len(list(df['County'].unique())))\n",
    "    \n",
    "    return df"
   ]
  },
  {
   "cell_type": "code",
   "execution_count": 3,
   "metadata": {
    "collapsed": false
   },
   "outputs": [],
   "source": [
    "# transform gpas into discrete buckets\n",
    "# round down to the lower bucket for each range\n",
    "# buckets are low (1), medium (2), high (3)\n",
    "# min GPA = 3.24, max GPA = 4.35, stddev = 0.2134\n",
    "def bucket_gpa(gpa):\n",
    "    if gpa >= 3.0 and gpa < 3.2:\n",
    "        return 1\n",
    "\n",
    "    if gpa >= 3.2 and gpa < 3.4:\n",
    "        return 1\n",
    "\n",
    "    if gpa >= 3.4 and gpa < 3.6:\n",
    "        return 2\n",
    "\n",
    "    if gpa >= 3.6 and gpa < 3.8:\n",
    "        return 2\n",
    "\n",
    "    if gpa >= 3.8 and gpa < 4.0:\n",
    "        return 2\n",
    "\n",
    "    if gpa >= 4.0 and gpa < 4.2:\n",
    "        return 3\n",
    "\n",
    "    return 3"
   ]
  },
  {
   "cell_type": "code",
   "execution_count": 4,
   "metadata": {
    "collapsed": true
   },
   "outputs": [],
   "source": [
    "# transform sat scores into discrete buckets\n",
    "# low (1), med (2), high (3)\n",
    "# min score = 440 and max score = 550\n",
    "def bucket_sat_score(score):\n",
    "    if score >= 400 and score < 440:\n",
    "        return 1\n",
    "\n",
    "    if score >= 440 and score < 460:\n",
    "        return 1\n",
    "    \n",
    "    if score >= 460 and score < 480:\n",
    "        return 2\n",
    "    \n",
    "    if score >= 480 and score < 500:\n",
    "        return 2\n",
    "    \n",
    "    if score >= 500 and score < 520:\n",
    "        return 2\n",
    "    \n",
    "    if score >= 520 and score < 540:\n",
    "        return 3\n",
    "    \n",
    "    return 3"
   ]
  },
  {
   "cell_type": "markdown",
   "metadata": {},
   "source": [
    "#### Ingest and Format Admit Ethnicity Data\n",
    "#### Resulting DataFrame should have County and Ethnicity of all 2018 Admitted UC students"
   ]
  },
  {
   "cell_type": "code",
   "execution_count": 5,
   "metadata": {
    "collapsed": false
   },
   "outputs": [
    {
     "name": "stdout",
     "output_type": "stream",
     "text": [
      "Number of rows in the set 852\n",
      "Number of unique counties 42\n"
     ]
    }
   ],
   "source": [
    "# import data by ethnicity\n",
    "ethnicities = pd.read_csv('../data/HS_ethnicity_by_year_data.csv')\n",
    "# rename County, Status, and Ethnicity Columns\n",
    "ethnicities = ethnicities.rename(columns={'County/State/ Territory': 'County', 'Count': 'Status', 'Uad Uc Ethn 6 Cat': 'Ethnicity', 'Pivot Field Values': 'Count'})\n",
    "# further filter rows\n",
    "# only keep rows that have a county\n",
    "ethnicities = ethnicities[pd.notnull(ethnicities['County'])]\n",
    "ethnicities = filter_dataframe(ethnicities, ['County', 'Ethnicity', 'Status'])"
   ]
  },
  {
   "cell_type": "code",
   "execution_count": 6,
   "metadata": {
    "collapsed": false
   },
   "outputs": [
    {
     "data": {
      "text/html": [
       "<div>\n",
       "<table border=\"1\" class=\"dataframe\">\n",
       "  <thead>\n",
       "    <tr style=\"text-align: right;\">\n",
       "      <th></th>\n",
       "      <th>County</th>\n",
       "      <th>Ethnicity</th>\n",
       "      <th>Status</th>\n",
       "    </tr>\n",
       "  </thead>\n",
       "  <tbody>\n",
       "    <tr>\n",
       "      <th>80</th>\n",
       "      <td>TX</td>\n",
       "      <td>White</td>\n",
       "      <td>Adm</td>\n",
       "    </tr>\n",
       "    <tr>\n",
       "      <th>81</th>\n",
       "      <td>TX</td>\n",
       "      <td>Asian</td>\n",
       "      <td>Adm</td>\n",
       "    </tr>\n",
       "    <tr>\n",
       "      <th>82</th>\n",
       "      <td>TX</td>\n",
       "      <td>Asian</td>\n",
       "      <td>App</td>\n",
       "    </tr>\n",
       "    <tr>\n",
       "      <th>83</th>\n",
       "      <td>TX</td>\n",
       "      <td>All</td>\n",
       "      <td>Adm</td>\n",
       "    </tr>\n",
       "    <tr>\n",
       "      <th>84</th>\n",
       "      <td>TX</td>\n",
       "      <td>All</td>\n",
       "      <td>App</td>\n",
       "    </tr>\n",
       "  </tbody>\n",
       "</table>\n",
       "</div>"
      ],
      "text/plain": [
       "   County Ethnicity Status\n",
       "80     TX     White    Adm\n",
       "81     TX     Asian    Adm\n",
       "82     TX     Asian    App\n",
       "83     TX       All    Adm\n",
       "84     TX       All    App"
      ]
     },
     "execution_count": 6,
     "metadata": {},
     "output_type": "execute_result"
    }
   ],
   "source": [
    "ethnicities.head()"
   ]
  },
  {
   "cell_type": "code",
   "execution_count": 7,
   "metadata": {
    "collapsed": false
   },
   "outputs": [
    {
     "name": "stdout",
     "output_type": "stream",
     "text": [
      "Number of rows in the set 999\n",
      "Number of unique counties 55\n"
     ]
    }
   ],
   "source": [
    "# import data by gender\n",
    "genders = pd.read_csv('../data/FR_GENDER_data.csv')\n",
    "genders = genders.rename(columns={'Count': 'Status', 'Pivot Field Values': 'Count', 'County/State/ Territory': 'County'})\n",
    "genders['Fall Term'] = 2016\n",
    "genders = filter_dataframe(genders, ['County', 'Gender', 'Status'])"
   ]
  },
  {
   "cell_type": "code",
   "execution_count": 8,
   "metadata": {
    "collapsed": false
   },
   "outputs": [
    {
     "data": {
      "text/html": [
       "<div>\n",
       "<table border=\"1\" class=\"dataframe\">\n",
       "  <thead>\n",
       "    <tr style=\"text-align: right;\">\n",
       "      <th></th>\n",
       "      <th>County</th>\n",
       "      <th>Gender</th>\n",
       "      <th>Status</th>\n",
       "    </tr>\n",
       "  </thead>\n",
       "  <tbody>\n",
       "    <tr>\n",
       "      <th>1</th>\n",
       "      <td>Los Angeles</td>\n",
       "      <td>Male</td>\n",
       "      <td>Adm</td>\n",
       "    </tr>\n",
       "    <tr>\n",
       "      <th>2</th>\n",
       "      <td>Los Angeles</td>\n",
       "      <td>Male</td>\n",
       "      <td>App</td>\n",
       "    </tr>\n",
       "    <tr>\n",
       "      <th>4</th>\n",
       "      <td>Los Angeles</td>\n",
       "      <td>Female</td>\n",
       "      <td>Adm</td>\n",
       "    </tr>\n",
       "    <tr>\n",
       "      <th>5</th>\n",
       "      <td>Los Angeles</td>\n",
       "      <td>Female</td>\n",
       "      <td>App</td>\n",
       "    </tr>\n",
       "    <tr>\n",
       "      <th>7</th>\n",
       "      <td>Los Angeles</td>\n",
       "      <td>All</td>\n",
       "      <td>Adm</td>\n",
       "    </tr>\n",
       "  </tbody>\n",
       "</table>\n",
       "</div>"
      ],
      "text/plain": [
       "        County  Gender Status\n",
       "1  Los Angeles    Male    Adm\n",
       "2  Los Angeles    Male    App\n",
       "4  Los Angeles  Female    Adm\n",
       "5  Los Angeles  Female    App\n",
       "7  Los Angeles     All    Adm"
      ]
     },
     "execution_count": 8,
     "metadata": {},
     "output_type": "execute_result"
    }
   ],
   "source": [
    "genders.head()"
   ]
  },
  {
   "cell_type": "markdown",
   "metadata": {},
   "source": [
    "#### Min GPA for 2018 admits is 3.24\n",
    "#### Max GPA for 2018 admits is 4.35"
   ]
  },
  {
   "cell_type": "code",
   "execution_count": 9,
   "metadata": {
    "collapsed": false
   },
   "outputs": [
    {
     "name": "stdout",
     "output_type": "stream",
     "text": [
      "Number of rows in the set 7596\n",
      "Number of unique counties 28\n",
      "Number of rows in the set 1800\n"
     ]
    }
   ],
   "source": [
    "# import data by gpa\n",
    "gpas = pd.read_csv('../data/FR_GPA_by_Inst_data.csv')\n",
    "# rename columns\n",
    "gpas = gpas.rename(columns={'Measure Values': 'GPA', 'School Name': 'School', 'Measure Names': 'Status'})\n",
    "# filter any rows that do not have a GPA or county\n",
    "gpas = gpas[pd.notnull(gpas['GPA'])]\n",
    "gpas = gpas[gpas['County'] != 'Not Applicable']\n",
    "# transform status to match the other datasets\n",
    "gpas['Status'] = [status.replace('GPA', '').strip() for status in gpas['Status']]\n",
    "gpas = filter_dataframe(gpas, ['County', 'GPA', 'Campus', 'Status'], remove_dups=False)\n",
    "# take the average admitted gpa per county and campus\n",
    "gpas = gpas.groupby(['County', 'Campus', 'Status']).mean().reset_index()\n",
    "# round all the GPAs into discrete buckets\n",
    "gpas['GPA'] = [bucket_gpa(gpa) for gpa in gpas['GPA']]\n",
    "gpas = gpas.drop_duplicates()\n",
    "print \"Number of rows in the set {0}\".format(gpas.size)"
   ]
  },
  {
   "cell_type": "code",
   "execution_count": 10,
   "metadata": {
    "collapsed": false
   },
   "outputs": [
    {
     "data": {
      "text/html": [
       "<div>\n",
       "<table border=\"1\" class=\"dataframe\">\n",
       "  <thead>\n",
       "    <tr style=\"text-align: right;\">\n",
       "      <th></th>\n",
       "      <th>County</th>\n",
       "      <th>Campus</th>\n",
       "      <th>Status</th>\n",
       "      <th>GPA</th>\n",
       "    </tr>\n",
       "  </thead>\n",
       "  <tbody>\n",
       "    <tr>\n",
       "      <th>0</th>\n",
       "      <td>Alameda</td>\n",
       "      <td>Berkeley</td>\n",
       "      <td>Adm</td>\n",
       "      <td>3</td>\n",
       "    </tr>\n",
       "    <tr>\n",
       "      <th>1</th>\n",
       "      <td>Alameda</td>\n",
       "      <td>Berkeley</td>\n",
       "      <td>App</td>\n",
       "      <td>2</td>\n",
       "    </tr>\n",
       "    <tr>\n",
       "      <th>2</th>\n",
       "      <td>Alameda</td>\n",
       "      <td>Davis</td>\n",
       "      <td>Adm</td>\n",
       "      <td>3</td>\n",
       "    </tr>\n",
       "    <tr>\n",
       "      <th>3</th>\n",
       "      <td>Alameda</td>\n",
       "      <td>Davis</td>\n",
       "      <td>App</td>\n",
       "      <td>2</td>\n",
       "    </tr>\n",
       "    <tr>\n",
       "      <th>4</th>\n",
       "      <td>Alameda</td>\n",
       "      <td>Irvine</td>\n",
       "      <td>Adm</td>\n",
       "      <td>3</td>\n",
       "    </tr>\n",
       "  </tbody>\n",
       "</table>\n",
       "</div>"
      ],
      "text/plain": [
       "    County    Campus Status  GPA\n",
       "0  Alameda  Berkeley    Adm    3\n",
       "1  Alameda  Berkeley    App    2\n",
       "2  Alameda     Davis    Adm    3\n",
       "3  Alameda     Davis    App    2\n",
       "4  Alameda    Irvine    Adm    3"
      ]
     },
     "execution_count": 10,
     "metadata": {},
     "output_type": "execute_result"
    }
   ],
   "source": [
    "gpas.head()"
   ]
  },
  {
   "cell_type": "markdown",
   "metadata": {},
   "source": [
    "#### SAT Score Source data\n",
    "#### https://data.world/education/california-sat-report-2015-2016/workspace/project-summary?agentid=education&datasetid=california-sat-report-2015-2016"
   ]
  },
  {
   "cell_type": "code",
   "execution_count": 11,
   "metadata": {
    "collapsed": false
   },
   "outputs": [
    {
     "data": {
      "text/html": [
       "<div>\n",
       "<table border=\"1\" class=\"dataframe\">\n",
       "  <thead>\n",
       "    <tr style=\"text-align: right;\">\n",
       "      <th></th>\n",
       "      <th>AvgScrRead</th>\n",
       "      <th>AvgScrMath</th>\n",
       "      <th>AvgScrWrit</th>\n",
       "      <th>County</th>\n",
       "    </tr>\n",
       "  </thead>\n",
       "  <tbody>\n",
       "    <tr>\n",
       "      <th>1</th>\n",
       "      <td>2</td>\n",
       "      <td>3</td>\n",
       "      <td>2</td>\n",
       "      <td>Alameda</td>\n",
       "    </tr>\n",
       "    <tr>\n",
       "      <th>89</th>\n",
       "      <td>3</td>\n",
       "      <td>3</td>\n",
       "      <td>2</td>\n",
       "      <td>Amador</td>\n",
       "    </tr>\n",
       "    <tr>\n",
       "      <th>95</th>\n",
       "      <td>2</td>\n",
       "      <td>3</td>\n",
       "      <td>2</td>\n",
       "      <td>Butte</td>\n",
       "    </tr>\n",
       "    <tr>\n",
       "      <th>119</th>\n",
       "      <td>2</td>\n",
       "      <td>2</td>\n",
       "      <td>2</td>\n",
       "      <td>Calaveras</td>\n",
       "    </tr>\n",
       "    <tr>\n",
       "      <th>126</th>\n",
       "      <td>1</td>\n",
       "      <td>2</td>\n",
       "      <td>1</td>\n",
       "      <td>Colusa</td>\n",
       "    </tr>\n",
       "  </tbody>\n",
       "</table>\n",
       "</div>"
      ],
      "text/plain": [
       "     AvgScrRead  AvgScrMath  AvgScrWrit     County\n",
       "1             2           3           2    Alameda\n",
       "89            3           3           2     Amador\n",
       "95            2           3           2      Butte\n",
       "119           2           2           2  Calaveras\n",
       "126           1           2           1     Colusa"
      ]
     },
     "execution_count": 11,
     "metadata": {},
     "output_type": "execute_result"
    }
   ],
   "source": [
    "sat_scores = pd.read_csv('../data/sat-report-2015-2016.csv')\n",
    "# rtype = Record Type: C=County, D=District, S=School, X=State\n",
    "sat_scores = sat_scores[sat_scores['rtype'] == 'C']\n",
    "# columns to keep\n",
    "sat_scores = sat_scores[['AvgScrRead', 'AvgScrMath', 'AvgScrWrit', 'cname']]\n",
    "# rename for join\n",
    "sat_scores = sat_scores.rename(columns={'cname': 'County'})\n",
    "# drop any rows that do not have a school\n",
    "sat_scores = sat_scores[pd.notnull(sat_scores['County'])]\n",
    "# convert score cols to ints\n",
    "sat_scores['AvgScrRead'] = pd.to_numeric(sat_scores['AvgScrRead'], errors=coerce)\n",
    "sat_scores['AvgScrMath'] = pd.to_numeric(sat_scores['AvgScrMath'], errors=coerce)\n",
    "sat_scores['AvgScrWrit'] = pd.to_numeric(sat_scores['AvgScrWrit'], errors=coerce)\n",
    "# drop null cols\n",
    "sat_scores = sat_scores[pd.notnull(sat_scores['AvgScrRead'])]\n",
    "sat_scores = sat_scores[pd.notnull(sat_scores['AvgScrMath'])]\n",
    "sat_scores = sat_scores[pd.notnull(sat_scores['AvgScrWrit'])]\n",
    "# bucket scores\n",
    "sat_scores['AvgScrRead'] = [bucket_sat_score(score) for score in sat_scores['AvgScrRead']]\n",
    "sat_scores['AvgScrMath'] = [bucket_sat_score(score) for score in sat_scores['AvgScrMath']]\n",
    "sat_scores['AvgScrWrit'] = [bucket_sat_score(score) for score in sat_scores['AvgScrWrit']]\n",
    "# remove duplicates\n",
    "sat_scores = sat_scores.drop_duplicates()\n",
    "sat_scores.head()"
   ]
  },
  {
   "cell_type": "code",
   "execution_count": 12,
   "metadata": {
    "collapsed": false
   },
   "outputs": [
    {
     "name": "stdout",
     "output_type": "stream",
     "text": [
      "Number of rows in the set 224\n",
      "Number of unique counties 56\n"
     ]
    }
   ],
   "source": [
    "print \"Number of rows in the set {0}\".format(sat_scores.size)\n",
    "print \"Number of unique counties {0}\".format(len(list(sat_scores['County'].unique())))"
   ]
  },
  {
   "cell_type": "code",
   "execution_count": 13,
   "metadata": {
    "collapsed": false
   },
   "outputs": [],
   "source": [
    "# join the datasets\n",
    "result = pd.merge(ethnicities, genders, on=['County', 'Status'])\n",
    "result = pd.merge(result, gpas, on=['County', 'Status']).drop_duplicates()\n",
    "\n",
    "# SAT scores do not have admittance data, so assume all applicants from\n",
    "# the same county have the same SAT scores\n",
    "result = pd.merge(result, sat_scores, on=['County']).drop_duplicates()\n",
    "\n",
    "# convert admitted and applied to labels\n",
    "# 0 for applied, 1 for admitted\n",
    "result['Status'] = [0 if status == 'App' else 1 for status in result['Status']]\n",
    "result.drop_duplicates(inplace=True)"
   ]
  },
  {
   "cell_type": "code",
   "execution_count": 14,
   "metadata": {
    "collapsed": false
   },
   "outputs": [
    {
     "data": {
      "text/html": [
       "<div>\n",
       "<table border=\"1\" class=\"dataframe\">\n",
       "  <thead>\n",
       "    <tr style=\"text-align: right;\">\n",
       "      <th></th>\n",
       "      <th>County</th>\n",
       "      <th>Ethnicity</th>\n",
       "      <th>Status</th>\n",
       "      <th>Gender</th>\n",
       "      <th>Campus</th>\n",
       "      <th>GPA</th>\n",
       "      <th>AvgScrRead</th>\n",
       "      <th>AvgScrMath</th>\n",
       "      <th>AvgScrWrit</th>\n",
       "    </tr>\n",
       "  </thead>\n",
       "  <tbody>\n",
       "    <tr>\n",
       "      <th>0</th>\n",
       "      <td>San Bernardino</td>\n",
       "      <td>Domestic Unknown</td>\n",
       "      <td>0</td>\n",
       "      <td>Male</td>\n",
       "      <td>Berkeley</td>\n",
       "      <td>2</td>\n",
       "      <td>2</td>\n",
       "      <td>2</td>\n",
       "      <td>1</td>\n",
       "    </tr>\n",
       "    <tr>\n",
       "      <th>1</th>\n",
       "      <td>San Bernardino</td>\n",
       "      <td>Domestic Unknown</td>\n",
       "      <td>0</td>\n",
       "      <td>Male</td>\n",
       "      <td>Davis</td>\n",
       "      <td>2</td>\n",
       "      <td>2</td>\n",
       "      <td>2</td>\n",
       "      <td>1</td>\n",
       "    </tr>\n",
       "    <tr>\n",
       "      <th>2</th>\n",
       "      <td>San Bernardino</td>\n",
       "      <td>Domestic Unknown</td>\n",
       "      <td>0</td>\n",
       "      <td>Male</td>\n",
       "      <td>Irvine</td>\n",
       "      <td>2</td>\n",
       "      <td>2</td>\n",
       "      <td>2</td>\n",
       "      <td>1</td>\n",
       "    </tr>\n",
       "    <tr>\n",
       "      <th>3</th>\n",
       "      <td>San Bernardino</td>\n",
       "      <td>Domestic Unknown</td>\n",
       "      <td>0</td>\n",
       "      <td>Male</td>\n",
       "      <td>Los Angeles</td>\n",
       "      <td>2</td>\n",
       "      <td>2</td>\n",
       "      <td>2</td>\n",
       "      <td>1</td>\n",
       "    </tr>\n",
       "    <tr>\n",
       "      <th>4</th>\n",
       "      <td>San Bernardino</td>\n",
       "      <td>Domestic Unknown</td>\n",
       "      <td>0</td>\n",
       "      <td>Male</td>\n",
       "      <td>Merced</td>\n",
       "      <td>1</td>\n",
       "      <td>2</td>\n",
       "      <td>2</td>\n",
       "      <td>1</td>\n",
       "    </tr>\n",
       "  </tbody>\n",
       "</table>\n",
       "</div>"
      ],
      "text/plain": [
       "           County         Ethnicity  Status Gender       Campus  GPA  \\\n",
       "0  San Bernardino  Domestic Unknown       0   Male     Berkeley    2   \n",
       "1  San Bernardino  Domestic Unknown       0   Male        Davis    2   \n",
       "2  San Bernardino  Domestic Unknown       0   Male       Irvine    2   \n",
       "3  San Bernardino  Domestic Unknown       0   Male  Los Angeles    2   \n",
       "4  San Bernardino  Domestic Unknown       0   Male       Merced    1   \n",
       "\n",
       "   AvgScrRead  AvgScrMath  AvgScrWrit  \n",
       "0           2           2           1  \n",
       "1           2           2           1  \n",
       "2           2           2           1  \n",
       "3           2           2           1  \n",
       "4           2           2           1  "
      ]
     },
     "execution_count": 14,
     "metadata": {},
     "output_type": "execute_result"
    }
   ],
   "source": [
    "result.head()"
   ]
  },
  {
   "cell_type": "code",
   "execution_count": 15,
   "metadata": {
    "collapsed": false
   },
   "outputs": [
    {
     "data": {
      "text/plain": [
       "53460"
      ]
     },
     "execution_count": 15,
     "metadata": {},
     "output_type": "execute_result"
    }
   ],
   "source": [
    "result.size"
   ]
  },
  {
   "cell_type": "code",
   "execution_count": 16,
   "metadata": {
    "collapsed": false
   },
   "outputs": [
    {
     "name": "stdout",
     "output_type": "stream",
     "text": [
      "Total number of admitted students 2855\n"
     ]
    }
   ],
   "source": [
    "print (\"Total number of admitted students {0}\".format(len(result[result['Status'] == 1])))"
   ]
  },
  {
   "cell_type": "code",
   "execution_count": 17,
   "metadata": {
    "collapsed": false
   },
   "outputs": [
    {
     "name": "stdout",
     "output_type": "stream",
     "text": [
      "Total number of applied students 3085\n"
     ]
    }
   ],
   "source": [
    "print (\"Total number of applied students {0}\".format(len(result[result['Status'] == 0])))"
   ]
  },
  {
   "cell_type": "code",
   "execution_count": 18,
   "metadata": {
    "collapsed": false
   },
   "outputs": [
    {
     "data": {
      "text/html": [
       "<div>\n",
       "<table border=\"1\" class=\"dataframe\">\n",
       "  <thead>\n",
       "    <tr style=\"text-align: right;\">\n",
       "      <th></th>\n",
       "      <th>Status</th>\n",
       "      <th>GPA</th>\n",
       "      <th>AvgScrRead</th>\n",
       "      <th>AvgScrMath</th>\n",
       "      <th>AvgScrWrit</th>\n",
       "    </tr>\n",
       "  </thead>\n",
       "  <tbody>\n",
       "    <tr>\n",
       "      <th>count</th>\n",
       "      <td>5940.000000</td>\n",
       "      <td>5940.000000</td>\n",
       "      <td>5940.000000</td>\n",
       "      <td>5940.000000</td>\n",
       "      <td>5940.000000</td>\n",
       "    </tr>\n",
       "    <tr>\n",
       "      <th>mean</th>\n",
       "      <td>0.480640</td>\n",
       "      <td>2.318350</td>\n",
       "      <td>2.125926</td>\n",
       "      <td>2.363300</td>\n",
       "      <td>1.934680</td>\n",
       "    </tr>\n",
       "    <tr>\n",
       "      <th>std</th>\n",
       "      <td>0.499667</td>\n",
       "      <td>0.484305</td>\n",
       "      <td>0.382697</td>\n",
       "      <td>0.517418</td>\n",
       "      <td>0.544787</td>\n",
       "    </tr>\n",
       "    <tr>\n",
       "      <th>min</th>\n",
       "      <td>0.000000</td>\n",
       "      <td>1.000000</td>\n",
       "      <td>1.000000</td>\n",
       "      <td>1.000000</td>\n",
       "      <td>1.000000</td>\n",
       "    </tr>\n",
       "    <tr>\n",
       "      <th>25%</th>\n",
       "      <td>0.000000</td>\n",
       "      <td>2.000000</td>\n",
       "      <td>2.000000</td>\n",
       "      <td>2.000000</td>\n",
       "      <td>2.000000</td>\n",
       "    </tr>\n",
       "    <tr>\n",
       "      <th>50%</th>\n",
       "      <td>0.000000</td>\n",
       "      <td>2.000000</td>\n",
       "      <td>2.000000</td>\n",
       "      <td>2.000000</td>\n",
       "      <td>2.000000</td>\n",
       "    </tr>\n",
       "    <tr>\n",
       "      <th>75%</th>\n",
       "      <td>1.000000</td>\n",
       "      <td>3.000000</td>\n",
       "      <td>2.000000</td>\n",
       "      <td>3.000000</td>\n",
       "      <td>2.000000</td>\n",
       "    </tr>\n",
       "    <tr>\n",
       "      <th>max</th>\n",
       "      <td>1.000000</td>\n",
       "      <td>3.000000</td>\n",
       "      <td>3.000000</td>\n",
       "      <td>3.000000</td>\n",
       "      <td>3.000000</td>\n",
       "    </tr>\n",
       "  </tbody>\n",
       "</table>\n",
       "</div>"
      ],
      "text/plain": [
       "            Status          GPA   AvgScrRead   AvgScrMath   AvgScrWrit\n",
       "count  5940.000000  5940.000000  5940.000000  5940.000000  5940.000000\n",
       "mean      0.480640     2.318350     2.125926     2.363300     1.934680\n",
       "std       0.499667     0.484305     0.382697     0.517418     0.544787\n",
       "min       0.000000     1.000000     1.000000     1.000000     1.000000\n",
       "25%       0.000000     2.000000     2.000000     2.000000     2.000000\n",
       "50%       0.000000     2.000000     2.000000     2.000000     2.000000\n",
       "75%       1.000000     3.000000     2.000000     3.000000     2.000000\n",
       "max       1.000000     3.000000     3.000000     3.000000     3.000000"
      ]
     },
     "execution_count": 18,
     "metadata": {},
     "output_type": "execute_result"
    }
   ],
   "source": [
    "result.describe()"
   ]
  },
  {
   "cell_type": "markdown",
   "metadata": {},
   "source": [
    "#### Resulting dataset has 2,485 rows\n",
    "#### With county, ethnicity, gender, UC campus, GPA, SAT scores, and calculated admittance rate"
   ]
  },
  {
   "cell_type": "code",
   "execution_count": 19,
   "metadata": {
    "collapsed": true
   },
   "outputs": [],
   "source": [
    "result.to_csv('../data/applicant_admissions_data.csv')"
   ]
  },
  {
   "cell_type": "code",
   "execution_count": 20,
   "metadata": {
    "collapsed": false
   },
   "outputs": [],
   "source": [
    "S3 = boto3.client('s3', region_name='eu-central-1')\n",
    "S3.upload_file('../data/applicant_admissions_data.csv', 'gosat-data', 'applicant_admissions_data.csv')"
   ]
  },
  {
   "cell_type": "code",
   "execution_count": 21,
   "metadata": {
    "collapsed": false
   },
   "outputs": [
    {
     "data": {
      "text/plain": [
       "count               5940\n",
       "unique                10\n",
       "top       Universitywide\n",
       "freq                 648\n",
       "Name: Campus, dtype: object"
      ]
     },
     "execution_count": 21,
     "metadata": {},
     "output_type": "execute_result"
    }
   ],
   "source": [
    "result['Campus'].describe()"
   ]
  },
  {
   "cell_type": "code",
   "execution_count": null,
   "metadata": {
    "collapsed": true
   },
   "outputs": [],
   "source": []
  }
 ],
 "metadata": {
  "anaconda-cloud": {},
  "kernelspec": {
   "display_name": "Python [default]",
   "language": "python",
   "name": "python2"
  },
  "language_info": {
   "codemirror_mode": {
    "name": "ipython",
    "version": 2
   },
   "file_extension": ".py",
   "mimetype": "text/x-python",
   "name": "python",
   "nbconvert_exporter": "python",
   "pygments_lexer": "ipython2",
   "version": "2.7.12"
  }
 },
 "nbformat": 4,
 "nbformat_minor": 1
}
