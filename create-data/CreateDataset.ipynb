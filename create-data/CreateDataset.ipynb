{
 "cells": [
  {
   "cell_type": "code",
   "execution_count": null,
   "metadata": {
    "collapsed": true
   },
   "outputs": [],
   "source": [
    "import boto3\n",
    "import numpy as np\n",
    "import pandas as pd"
   ]
  },
  {
   "cell_type": "code",
   "execution_count": null,
   "metadata": {
    "collapsed": false
   },
   "outputs": [],
   "source": [
    "def calculate_admittance_proba(df, category, year):\n",
    "    df = df[df['Fall Term'] == year].drop(['Fall Term'], axis=1)\n",
    "    \n",
    "    # divide admitted by applied to get probability\n",
    "    admitted = df[df['Status'] == 'Adm'].drop(['Status'], axis=1)\n",
    "    admitted = admitted.groupby(['County', category]).sum().reset_index()\n",
    "    applied = df[df['Status'] == 'App'].drop(['Status'], axis=1)\n",
    "    applied = applied.groupby(['County', category]).sum().reset_index()\n",
    "    \n",
    "    result = pd.merge(admitted, applied, on=['County', category])\n",
    "    result['Probability'] = result['Count_x'] / result['Count_y']\n",
    "    return result.drop(['Count_x', 'Count_y'], axis=1)"
   ]
  },
  {
   "cell_type": "code",
   "execution_count": null,
   "metadata": {
    "collapsed": false
   },
   "outputs": [],
   "source": [
    "# import data by ethnicity\n",
    "ethnicities = pd.read_csv('../data/fr-applicants-by-ethnicity.csv')\n",
    "ethnicities = ethnicities.rename(columns={'County/State/ Territory': 'County', 'Count': 'Status', 'Uad Uc Ethn 6 Cat': 'Ethnicity', 'Pivot Field Values': 'Count'})\n",
    "ethnicities = ethnicities[['Status', 'Fall Term', 'County', 'Ethnicity', 'Count']]\n",
    "ethnicities = calculate_admittance_proba(ethnicities, 'Ethnicity', 2016)"
   ]
  },
  {
   "cell_type": "code",
   "execution_count": null,
   "metadata": {
    "collapsed": false
   },
   "outputs": [],
   "source": [
    "ethnicities.head()"
   ]
  },
  {
   "cell_type": "code",
   "execution_count": null,
   "metadata": {
    "collapsed": false
   },
   "outputs": [],
   "source": [
    "ethnicities.size"
   ]
  },
  {
   "cell_type": "code",
   "execution_count": null,
   "metadata": {
    "collapsed": false
   },
   "outputs": [],
   "source": [
    "# import data by gender\n",
    "genders = pd.read_csv('../data/fr-applicants-by-gender.csv')\n",
    "genders = genders.rename(columns={'Count': 'Status', 'Pivot Field Values': 'Count', 'County/State/ Territory': 'County'})\n",
    "genders = genders[['Status', 'Fall Term', 'County', 'Gender', 'Count']]\n",
    "genders = calculate_admittance_proba(genders, 'Gender', 2016)"
   ]
  },
  {
   "cell_type": "code",
   "execution_count": null,
   "metadata": {
    "collapsed": false
   },
   "outputs": [],
   "source": [
    "genders.head()"
   ]
  },
  {
   "cell_type": "code",
   "execution_count": null,
   "metadata": {
    "collapsed": false
   },
   "outputs": [],
   "source": [
    "genders.size"
   ]
  },
  {
   "cell_type": "code",
   "execution_count": null,
   "metadata": {
    "collapsed": false
   },
   "outputs": [],
   "source": [
    "# import data by gpa\n",
    "gpas = pd.read_csv('../data/fr-applicants-by-gpa.csv')\n",
    "# filter any rows that do not have a GPA or school\n",
    "gpas = gpas[pd.notnull(gpas['School Name'])]\n",
    "gpas = gpas[pd.notnull(gpas['Measure Values'])]\n",
    "# rename columns\n",
    "gpas = gpas.rename(columns={'Measure Values': 'GPA', 'School Name': 'School'})\n",
    "\n",
    "gpas = gpas[gpas['Fall Term'] == 2016].drop(['Fall Term'], axis=1)\n",
    "    \n",
    "# divide admitted by applied to get probability\n",
    "admitted = gpas[gpas['Measure Names'] == 'Adm GPA'].drop(['Measure Names'], axis=1)\n",
    "admitted = admitted.groupby(['County', 'Campus']).count().reset_index()\n",
    "applied = gpas[gpas['Measure Names'] == 'App GPA'].drop(['Measure Names'], axis=1)\n",
    "applied = applied.groupby(['County', 'Campus']).count().reset_index()\n",
    "\n",
    "result = pd.merge(admitted, applied, on=['County', 'Campus'])\n",
    "result = result[['County', 'Campus', 'Calculation1_x', 'Calculation1_y']]\n",
    "result['Probability'] = result['Calculation1_x'] / result['Calculation1_y']\n",
    "result = result.drop(['Calculation1_x', 'Calculation1_y'], axis=1)\n",
    "\n",
    "gpas = pd.merge(result, gpas, on=['Campus', 'County'])[['County', 'Campus', 'GPA', 'Probability']].drop_duplicates()"
   ]
  },
  {
   "cell_type": "raw",
   "metadata": {
    "collapsed": false
   },
   "source": [
    "len(gpas)"
   ]
  },
  {
   "cell_type": "code",
   "execution_count": null,
   "metadata": {
    "collapsed": false
   },
   "outputs": [],
   "source": [
    "gpas.head()"
   ]
  },
  {
   "cell_type": "code",
   "execution_count": null,
   "metadata": {
    "collapsed": false
   },
   "outputs": [],
   "source": [
    "sat_scores = pd.read_csv('../data/sat-report-2015-2016.csv')\n",
    "# columns to keep\n",
    "sat_scores = sat_scores[['AvgScrRead', 'AvgScrMath', 'AvgScrWrit', 'cname']]\n",
    "# rename for join\n",
    "sat_scores = sat_scores.rename(columns={'cname': 'County'})\n",
    "# drop any rows that do not have a school\n",
    "sat_scores = sat_scores[pd.notnull(sat_scores['County'])]\n",
    "# convert score cols to ints\n",
    "sat_scores['AvgScrRead'] = pd.to_numeric(sat_scores['AvgScrRead'], errors=coerce)\n",
    "sat_scores['AvgScrMath'] = pd.to_numeric(sat_scores['AvgScrMath'], errors=coerce)\n",
    "sat_scores['AvgScrWrit'] = pd.to_numeric(sat_scores['AvgScrWrit'], errors=coerce)\n",
    "# drop null cols\n",
    "sat_scores = sat_scores[pd.notnull(sat_scores['AvgScrRead'])]\n",
    "sat_scores = sat_scores[pd.notnull(sat_scores['AvgScrMath'])]\n",
    "sat_scores = sat_scores[pd.notnull(sat_scores['AvgScrWrit'])]\n",
    "sat_scores = sat_scores.groupby('County').mean().reset_index()\n",
    "sat_scores.head()"
   ]
  },
  {
   "cell_type": "code",
   "execution_count": null,
   "metadata": {
    "collapsed": false
   },
   "outputs": [],
   "source": [
    "len(sat_scores)"
   ]
  },
  {
   "cell_type": "code",
   "execution_count": null,
   "metadata": {
    "collapsed": true
   },
   "outputs": [],
   "source": [
    "join_cols = ['County']"
   ]
  },
  {
   "cell_type": "code",
   "execution_count": null,
   "metadata": {
    "collapsed": false
   },
   "outputs": [],
   "source": [
    "# join the datasets\n",
    "result = pd.merge(ethnicities, genders, on=join_cols)\n",
    "result = pd.merge(result, gpas, on=join_cols).drop_duplicates()\n",
    "result = pd.merge(result, sat_scores, on=join_cols).drop_duplicates()\n",
    "result['Probability'] = (result['Probability_x'] + result['Probability_y'] + result['Probability']) / 3\n",
    "result.drop(['Probability_x', 'Probability_y'], axis=1, inplace=True)\n",
    "result.drop_duplicates(inplace=True)"
   ]
  },
  {
   "cell_type": "code",
   "execution_count": null,
   "metadata": {
    "collapsed": false
   },
   "outputs": [],
   "source": [
    "result.head()"
   ]
  },
  {
   "cell_type": "code",
   "execution_count": null,
   "metadata": {
    "collapsed": false
   },
   "outputs": [],
   "source": [
    "result.size"
   ]
  },
  {
   "cell_type": "code",
   "execution_count": null,
   "metadata": {
    "collapsed": false
   },
   "outputs": [],
   "source": [
    "result.describe()"
   ]
  },
  {
   "cell_type": "code",
   "execution_count": null,
   "metadata": {
    "collapsed": false
   },
   "outputs": [],
   "source": [
    "#counts = result[['NumStudentsAccepted', 'Campus', 'County']].groupby(['Campus', 'County']).sum().reset_index()\n",
    "#counts.rename(columns={'NumStudentsAccepted': 'TotalStudentsAcceptedInTerm'}, inplace=True)\n",
    "#counts.drop(['County'], axis=1, inplace=True)"
   ]
  },
  {
   "cell_type": "code",
   "execution_count": null,
   "metadata": {
    "collapsed": false
   },
   "outputs": [],
   "source": [
    "#counts.head()"
   ]
  },
  {
   "cell_type": "code",
   "execution_count": null,
   "metadata": {
    "collapsed": false
   },
   "outputs": [],
   "source": [
    "# merge with dataset\n",
    "#combined = pd.merge(result, counts, on=['Campus'])\n",
    "#combined.head()"
   ]
  },
  {
   "cell_type": "code",
   "execution_count": null,
   "metadata": {
    "collapsed": false
   },
   "outputs": [],
   "source": [
    "#combined.size"
   ]
  },
  {
   "cell_type": "code",
   "execution_count": null,
   "metadata": {
    "collapsed": false
   },
   "outputs": [],
   "source": [
    "#combined.describe()"
   ]
  },
  {
   "cell_type": "code",
   "execution_count": null,
   "metadata": {
    "collapsed": false
   },
   "outputs": [],
   "source": [
    "# caluclate the predicted column\n",
    "#combined['ProbabilityOfAcceptance'] = (combined['NumStudentsAccepted'] / combined['TotalStudentsAcceptedInTerm']) * 100\n",
    "#combined.drop(['NumStudentsAccepted', 'TotalStudentsAcceptedInTerm'], axis=1, inplace=True)"
   ]
  },
  {
   "cell_type": "code",
   "execution_count": null,
   "metadata": {
    "collapsed": false
   },
   "outputs": [],
   "source": [
    "#combined.head()"
   ]
  },
  {
   "cell_type": "code",
   "execution_count": null,
   "metadata": {
    "collapsed": true
   },
   "outputs": [],
   "source": [
    "# fill these columns in later\n",
    "result['ACT'] = 0.0"
   ]
  },
  {
   "cell_type": "code",
   "execution_count": null,
   "metadata": {
    "collapsed": false
   },
   "outputs": [],
   "source": [
    "result.head().to_csv('../data/sample-data.csv')"
   ]
  },
  {
   "cell_type": "code",
   "execution_count": null,
   "metadata": {
    "collapsed": false
   },
   "outputs": [],
   "source": [
    "result.describe()"
   ]
  },
  {
   "cell_type": "code",
   "execution_count": null,
   "metadata": {
    "collapsed": false
   },
   "outputs": [],
   "source": [
    "S3 = boto3.client('s3', region_name='eu-central-1')\n",
    "S3.upload_file('../data/sample-data.csv', 'gosat-data', 'sample-data.csv')"
   ]
  },
  {
   "cell_type": "code",
   "execution_count": null,
   "metadata": {
    "collapsed": false
   },
   "outputs": [],
   "source": [
    "for campus in combined['Campus'].unique():\n",
    "    print(campus)"
   ]
  },
  {
   "cell_type": "code",
   "execution_count": null,
   "metadata": {
    "collapsed": true
   },
   "outputs": [],
   "source": []
  }
 ],
 "metadata": {
  "anaconda-cloud": {},
  "kernelspec": {
   "display_name": "Python [default]",
   "language": "python",
   "name": "python2"
  },
  "language_info": {
   "codemirror_mode": {
    "name": "ipython",
    "version": 2
   },
   "file_extension": ".py",
   "mimetype": "text/x-python",
   "name": "python",
   "nbconvert_exporter": "python",
   "pygments_lexer": "ipython2",
   "version": "2.7.12"
  }
 },
 "nbformat": 4,
 "nbformat_minor": 1
}
