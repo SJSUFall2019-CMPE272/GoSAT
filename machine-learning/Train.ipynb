{
 "cells": [
  {
   "cell_type": "code",
   "execution_count": 16,
   "metadata": {
    "collapsed": false
   },
   "outputs": [],
   "source": [
    "import boto3\n",
    "import numpy as np\n",
    "import pandas as pd\n",
    "import matplotlib.pyplot as plt\n",
    "import pickle\n",
    "\n",
    "from sklearn.linear_model import LogisticRegression\n",
    "from sklearn.model_selection import train_test_split\n",
    "from sklearn.metrics import confusion_matrix\n",
    "from sklearn import preprocessing"
   ]
  },
  {
   "cell_type": "code",
   "execution_count": 10,
   "metadata": {
    "collapsed": true
   },
   "outputs": [],
   "source": [
    "\"\"\"\n",
    "Transform input data for model\n",
    "Lowercase all strings in the dataset\n",
    "One-hot encode categorical columns such as Ethnicity and Gender\n",
    "Return the one-hot encoder and combined numpy array\n",
    "\"\"\"\n",
    "def transform_input(df):\n",
    "    df.applymap(lambda s: s.lower() if type(s) == str else s)\n",
    "    df = df.drop(['Campus'], axis=1)\n",
    "\n",
    "    encoder = preprocessing.OneHotEncoder(handle_unknown='ignore')\n",
    "    categorical_cols = ['Ethnicity', 'Gender', 'County']\n",
    "    categorical = df[categorical_cols].values\n",
    "\n",
    "    non_categorical_cols = ['GPA', 'AvgScrRead', 'AvgScrMath', 'AvgScrWrit']\n",
    "    intermediate = df[non_categorical_cols]\n",
    "\n",
    "    categoricl_transformed = encoder.fit_transform(categorical).toarray()\n",
    "    features = np.hstack((intermediate.values, categoricl_transformed))\n",
    "\n",
    "    return encoder, features"
   ]
  },
  {
   "cell_type": "markdown",
   "metadata": {},
   "source": [
    "#### Read data"
   ]
  },
  {
   "cell_type": "code",
   "execution_count": 24,
   "metadata": {
    "collapsed": false
   },
   "outputs": [
    {
     "data": {
      "text/html": [
       "<div>\n",
       "<table border=\"1\" class=\"dataframe\">\n",
       "  <thead>\n",
       "    <tr style=\"text-align: right;\">\n",
       "      <th></th>\n",
       "      <th>County</th>\n",
       "      <th>Ethnicity</th>\n",
       "      <th>Gender</th>\n",
       "      <th>Campus</th>\n",
       "      <th>GPA</th>\n",
       "      <th>AvgScrRead</th>\n",
       "      <th>AvgScrMath</th>\n",
       "      <th>AvgScrWrit</th>\n",
       "    </tr>\n",
       "  </thead>\n",
       "  <tbody>\n",
       "    <tr>\n",
       "      <th>0</th>\n",
       "      <td>San Bernardino</td>\n",
       "      <td>Domestic Unknown</td>\n",
       "      <td>Male</td>\n",
       "      <td>Berkeley</td>\n",
       "      <td>3.864425</td>\n",
       "      <td>462.0</td>\n",
       "      <td>470.0</td>\n",
       "      <td>453.0</td>\n",
       "    </tr>\n",
       "    <tr>\n",
       "      <th>1</th>\n",
       "      <td>San Bernardino</td>\n",
       "      <td>Domestic Unknown</td>\n",
       "      <td>Male</td>\n",
       "      <td>Davis</td>\n",
       "      <td>3.580068</td>\n",
       "      <td>462.0</td>\n",
       "      <td>470.0</td>\n",
       "      <td>453.0</td>\n",
       "    </tr>\n",
       "    <tr>\n",
       "      <th>2</th>\n",
       "      <td>San Bernardino</td>\n",
       "      <td>Domestic Unknown</td>\n",
       "      <td>Male</td>\n",
       "      <td>Irvine</td>\n",
       "      <td>3.640650</td>\n",
       "      <td>462.0</td>\n",
       "      <td>470.0</td>\n",
       "      <td>453.0</td>\n",
       "    </tr>\n",
       "    <tr>\n",
       "      <th>3</th>\n",
       "      <td>San Bernardino</td>\n",
       "      <td>Domestic Unknown</td>\n",
       "      <td>Male</td>\n",
       "      <td>Los Angeles</td>\n",
       "      <td>3.808998</td>\n",
       "      <td>462.0</td>\n",
       "      <td>470.0</td>\n",
       "      <td>453.0</td>\n",
       "    </tr>\n",
       "    <tr>\n",
       "      <th>4</th>\n",
       "      <td>San Bernardino</td>\n",
       "      <td>Domestic Unknown</td>\n",
       "      <td>Male</td>\n",
       "      <td>Merced</td>\n",
       "      <td>3.333586</td>\n",
       "      <td>462.0</td>\n",
       "      <td>470.0</td>\n",
       "      <td>453.0</td>\n",
       "    </tr>\n",
       "  </tbody>\n",
       "</table>\n",
       "</div>"
      ],
      "text/plain": [
       "           County         Ethnicity Gender       Campus       GPA  AvgScrRead  \\\n",
       "0  San Bernardino  Domestic Unknown   Male     Berkeley  3.864425       462.0   \n",
       "1  San Bernardino  Domestic Unknown   Male        Davis  3.580068       462.0   \n",
       "2  San Bernardino  Domestic Unknown   Male       Irvine  3.640650       462.0   \n",
       "3  San Bernardino  Domestic Unknown   Male  Los Angeles  3.808998       462.0   \n",
       "4  San Bernardino  Domestic Unknown   Male       Merced  3.333586       462.0   \n",
       "\n",
       "   AvgScrMath  AvgScrWrit  \n",
       "0       470.0       453.0  \n",
       "1       470.0       453.0  \n",
       "2       470.0       453.0  \n",
       "3       470.0       453.0  \n",
       "4       470.0       453.0  "
      ]
     },
     "execution_count": 24,
     "metadata": {},
     "output_type": "execute_result"
    }
   ],
   "source": [
    "df = pd.read_csv('../data/applicant_admissions_data.csv').drop(['Unnamed: 0', 'Status'], axis=1)\n",
    "df.head()"
   ]
  },
  {
   "cell_type": "markdown",
   "metadata": {},
   "source": [
    "#### Transform data"
   ]
  },
  {
   "cell_type": "code",
   "execution_count": 12,
   "metadata": {
    "collapsed": false
   },
   "outputs": [
    {
     "name": "stdout",
     "output_type": "stream",
     "text": [
      "X dimensions (5940, 39)\n",
      "y dimensions (5940,)\n",
      "X train dimensions (4752, 39)\n",
      "y train dimensions (4752,)\n"
     ]
    }
   ],
   "source": [
    "# transform the data for the model\n",
    "# return the encoder as it is used in predictions\n",
    "encoder, X = transform_input(df)\n",
    "\n",
    "print (\"X dimensions {0}\".format(X.shape))\n",
    "\n",
    "le = preprocessing.LabelEncoder()\n",
    "y = le.fit_transform(df['Campus'])\n",
    "\n",
    "print (\"y dimensions {0}\".format(y.shape))\n",
    "\n",
    "# split data into 80% train 20% test\n",
    "X_train, X_test, y_train, y_test = train_test_split(X, y, test_size=0.2, random_state=42)\n",
    "\n",
    "print (\"X train dimensions {0}\".format(X_train.shape))\n",
    "print (\"y train dimensions {0}\".format(y_train.shape))"
   ]
  },
  {
   "cell_type": "markdown",
   "metadata": {},
   "source": [
    "#### Train the model"
   ]
  },
  {
   "cell_type": "code",
   "execution_count": 13,
   "metadata": {
    "collapsed": false
   },
   "outputs": [
    {
     "name": "stdout",
     "output_type": "stream",
     "text": [
      "predicted dimensions (1188,)\n",
      "y test dimensions (1188,)\n",
      "[5 3 9 ..., 3 7 5]\n",
      "[5 8 7 ..., 2 2 1]\n"
     ]
    },
    {
     "data": {
      "image/png": "[encoded data removed]",
      "text/plain": [
       "<matplotlib.figure.Figure at 0x105817090>"
      ]
     },
     "metadata": {},
     "output_type": "display_data"
    }
   ],
   "source": [
    "# train model\n",
    "clf = LogisticRegression(\n",
    "    random_state=0,\n",
    "    solver='lbfgs',\n",
    "    multi_class='multinomial',\n",
    "    max_iter=500)\n",
    "\n",
    "clf.fit(X_train, y_train)\n",
    "\n",
    "# upload mode and encoder to AWS for prediction\n",
    "pickle.dump(clf, open('models/gosat_logistic_regression', 'w'))\n",
    "pickle.dump(encoder, open('models/gosat_logistic_encoder', 'w'))\n",
    "\n",
    "\n",
    "# In[ ]:\n",
    "\n",
    "# train model\n",
    "clf = LogisticRegression(random_state=0, solver='lbfgs', multi_class='multinomial')\n",
    "clf.fit(X_train, y_train)\n",
    "\n",
    "y_pred = clf.predict(X_test)\n",
    "print (\"predicted dimensions {0}\".format(y_pred.shape))\n",
    "print (\"y test dimensions {0}\".format(y_test.shape))\n",
    "\n",
    "print (y_pred)\n",
    "print (y_test)\n",
    "\n",
    "cm = confusion_matrix(y_test, y_pred)\n",
    "\n",
    "# Plot pixel ranking\n",
    "plt.matshow(cm, cmap=plt.cm.Blues)\n",
    "plt.colorbar()\n",
    "plt.show()"
   ]
  },
  {
   "cell_type": "code",
   "execution_count": 25,
   "metadata": {
    "collapsed": false
   },
   "outputs": [
    {
     "data": {
      "text/plain": [
       "array([0, 1, 2, 3, 4, 5, 6, 7, 8, 9])"
      ]
     },
     "execution_count": 25,
     "metadata": {},
     "output_type": "execute_result"
    }
   ],
   "source": [
    "clf.classes_"
   ]
  },
  {
   "cell_type": "code",
   "execution_count": 15,
   "metadata": {
    "collapsed": true
   },
   "outputs": [],
   "source": [
    "# upload mode and encoder to AWS for prediction\n",
    "pickle.dump(clf, open('models/gosat_logistic_regression', 'w'))\n",
    "pickle.dump(encoder, open('models/gosat_logistic_encoder', 'w'))"
   ]
  },
  {
   "cell_type": "code",
   "execution_count": 19,
   "metadata": {
    "collapsed": false
   },
   "outputs": [],
   "source": [
    "s3 = boto3.client('s3')\n",
    "s3.upload_file('models/gosat_logistic_regression', 'gosat-models', 'gosat_logistic_regression')\n",
    "s3.upload_file('models/gosat_logistic_encoder', 'gosat-models', 'gosat_logistic_encoder')"
   ]
  },
  {
   "cell_type": "code",
   "execution_count": null,
   "metadata": {
    "collapsed": true
   },
   "outputs": [],
   "source": []
  }
 ],
 "metadata": {
  "anaconda-cloud": {},
  "kernelspec": {
   "display_name": "Python [default]",
   "language": "python",
   "name": "python2"
  },
  "language_info": {
   "codemirror_mode": {
    "name": "ipython",
    "version": 2
   },
   "file_extension": ".py",
   "mimetype": "text/x-python",
   "name": "python",
   "nbconvert_exporter": "python",
   "pygments_lexer": "ipython2",
   "version": "2.7.12"
  }
 },
 "nbformat": 4,
 "nbformat_minor": 1
}
