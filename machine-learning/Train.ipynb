{
 "cells": [
  {
   "cell_type": "code",
   "execution_count": 44,
   "metadata": {
    "collapsed": false
   },
   "outputs": [],
   "source": [
    "import boto3\n",
    "import json\n",
    "import numpy as np\n",
    "import pandas as pd\n",
    "import matplotlib.pyplot as plt\n",
    "import pickle\n",
    "\n",
    "from sklearn.linear_model import LogisticRegression\n",
    "from sklearn.model_selection import train_test_split\n",
    "from sklearn.metrics import confusion_matrix\n",
    "from sklearn import preprocessing"
   ]
  },
  {
   "cell_type": "code",
   "execution_count": 45,
   "metadata": {
    "collapsed": true
   },
   "outputs": [],
   "source": [
    "\"\"\"\n",
    "Transform input data for model\n",
    "Lowercase all strings in the dataset\n",
    "One-hot encode categorical columns such as Ethnicity and Gender\n",
    "Return the one-hot encoder and combined numpy array\n",
    "\"\"\"\n",
    "def transform_input(df):\n",
    "    df.applymap(lambda s: s.lower() if type(s) == str else s)\n",
    "    df = df.drop(['Campus'], axis=1)\n",
    "    \n",
    "    # round gpas to the nearest hundreth\n",
    "    df['GPA'] = [round(gpa, 2) for gpa in df['GPA']]\n",
    "    \n",
    "    # round sat scores to the nearest ten\n",
    "    df['AvgScrRead'] = [round(score, -1) for score in df['AvgScrRead']]\n",
    "    df['AvgScrMath'] = [round(score, -1) for score in df['AvgScrMath']]\n",
    "    df['AvgScrWrit'] = [round(score, -1) for score in df['AvgScrWrit']]\n",
    "\n",
    "    encoder = preprocessing.OneHotEncoder(handle_unknown='ignore')\n",
    "    categorical_cols = ['Ethnicity', 'Gender', 'County']\n",
    "    categorical = df[categorical_cols].values\n",
    "\n",
    "    non_categorical_cols = ['GPA', 'AvgScrRead', 'AvgScrMath', 'AvgScrWrit']\n",
    "    intermediate = df[non_categorical_cols]\n",
    "\n",
    "    categoricl_transformed = encoder.fit_transform(categorical).toarray()\n",
    "    features = np.hstack((intermediate.values, categoricl_transformed))\n",
    "\n",
    "    return encoder, features"
   ]
  },
  {
   "cell_type": "markdown",
   "metadata": {},
   "source": [
    "#### Read data"
   ]
  },
  {
   "cell_type": "code",
   "execution_count": 54,
   "metadata": {
    "collapsed": false
   },
   "outputs": [],
   "source": [
    "df = pd.read_csv('../data/applicant_admissions_data.csv')\n",
    "df = df[df['Status'] == 1]"
   ]
  },
  {
   "cell_type": "markdown",
   "metadata": {},
   "source": [
    "#### Look at some counts"
   ]
  },
  {
   "cell_type": "code",
   "execution_count": 55,
   "metadata": {
    "collapsed": false
   },
   "outputs": [
    {
     "data": {
      "text/html": [
       "<div>\n",
       "<table border=\"1\" class=\"dataframe\">\n",
       "  <thead>\n",
       "    <tr style=\"text-align: right;\">\n",
       "      <th></th>\n",
       "      <th>Campus</th>\n",
       "      <th>Number of Admits</th>\n",
       "    </tr>\n",
       "  </thead>\n",
       "  <tbody>\n",
       "    <tr>\n",
       "      <th>0</th>\n",
       "      <td>Berkeley</td>\n",
       "      <td>409</td>\n",
       "    </tr>\n",
       "    <tr>\n",
       "      <th>1</th>\n",
       "      <td>Davis</td>\n",
       "      <td>448</td>\n",
       "    </tr>\n",
       "    <tr>\n",
       "      <th>2</th>\n",
       "      <td>Irvine</td>\n",
       "      <td>409</td>\n",
       "    </tr>\n",
       "    <tr>\n",
       "      <th>3</th>\n",
       "      <td>Los Angeles</td>\n",
       "      <td>409</td>\n",
       "    </tr>\n",
       "    <tr>\n",
       "      <th>4</th>\n",
       "      <td>Merced</td>\n",
       "      <td>421</td>\n",
       "    </tr>\n",
       "    <tr>\n",
       "      <th>5</th>\n",
       "      <td>Riverside</td>\n",
       "      <td>409</td>\n",
       "    </tr>\n",
       "    <tr>\n",
       "      <th>6</th>\n",
       "      <td>San Diego</td>\n",
       "      <td>424</td>\n",
       "    </tr>\n",
       "    <tr>\n",
       "      <th>7</th>\n",
       "      <td>Santa Barbara</td>\n",
       "      <td>439</td>\n",
       "    </tr>\n",
       "    <tr>\n",
       "      <th>8</th>\n",
       "      <td>Santa Cruz</td>\n",
       "      <td>448</td>\n",
       "    </tr>\n",
       "    <tr>\n",
       "      <th>9</th>\n",
       "      <td>Universitywide</td>\n",
       "      <td>454</td>\n",
       "    </tr>\n",
       "  </tbody>\n",
       "</table>\n",
       "</div>"
      ],
      "text/plain": [
       "           Campus  Number of Admits\n",
       "0        Berkeley               409\n",
       "1           Davis               448\n",
       "2          Irvine               409\n",
       "3     Los Angeles               409\n",
       "4          Merced               421\n",
       "5       Riverside               409\n",
       "6       San Diego               424\n",
       "7   Santa Barbara               439\n",
       "8      Santa Cruz               448\n",
       "9  Universitywide               454"
      ]
     },
     "execution_count": 55,
     "metadata": {},
     "output_type": "execute_result"
    }
   ],
   "source": [
    "# how many admits per campus?\n",
    "df.groupby('Campus') \\\n",
    "    .count() \\\n",
    "    .reset_index()[['Campus', 'County']] \\\n",
    "    .rename(columns={'County': 'Number of Admits'})"
   ]
  },
  {
   "cell_type": "code",
   "execution_count": 56,
   "metadata": {
    "collapsed": false
   },
   "outputs": [
    {
     "data": {
      "text/html": [
       "<div>\n",
       "<table border=\"1\" class=\"dataframe\">\n",
       "  <thead>\n",
       "    <tr style=\"text-align: right;\">\n",
       "      <th></th>\n",
       "      <th>Number of Admits</th>\n",
       "      <th>County</th>\n",
       "    </tr>\n",
       "  </thead>\n",
       "  <tbody>\n",
       "    <tr>\n",
       "      <th>0</th>\n",
       "      <td>320</td>\n",
       "      <td>Alameda</td>\n",
       "    </tr>\n",
       "    <tr>\n",
       "      <th>1</th>\n",
       "      <td>150</td>\n",
       "      <td>Amador</td>\n",
       "    </tr>\n",
       "    <tr>\n",
       "      <th>2</th>\n",
       "      <td>320</td>\n",
       "      <td>Contra Costa</td>\n",
       "    </tr>\n",
       "    <tr>\n",
       "      <th>3</th>\n",
       "      <td>90</td>\n",
       "      <td>Humboldt</td>\n",
       "    </tr>\n",
       "    <tr>\n",
       "      <th>4</th>\n",
       "      <td>320</td>\n",
       "      <td>Los Angeles</td>\n",
       "    </tr>\n",
       "    <tr>\n",
       "      <th>5</th>\n",
       "      <td>48</td>\n",
       "      <td>Mendocino</td>\n",
       "    </tr>\n",
       "    <tr>\n",
       "      <th>6</th>\n",
       "      <td>150</td>\n",
       "      <td>Monterey</td>\n",
       "    </tr>\n",
       "    <tr>\n",
       "      <th>7</th>\n",
       "      <td>150</td>\n",
       "      <td>Napa</td>\n",
       "    </tr>\n",
       "    <tr>\n",
       "      <th>8</th>\n",
       "      <td>320</td>\n",
       "      <td>Orange</td>\n",
       "    </tr>\n",
       "    <tr>\n",
       "      <th>9</th>\n",
       "      <td>150</td>\n",
       "      <td>Sacramento</td>\n",
       "    </tr>\n",
       "    <tr>\n",
       "      <th>10</th>\n",
       "      <td>60</td>\n",
       "      <td>San Benito</td>\n",
       "    </tr>\n",
       "    <tr>\n",
       "      <th>11</th>\n",
       "      <td>210</td>\n",
       "      <td>San Bernardino</td>\n",
       "    </tr>\n",
       "    <tr>\n",
       "      <th>12</th>\n",
       "      <td>240</td>\n",
       "      <td>San Diego</td>\n",
       "    </tr>\n",
       "    <tr>\n",
       "      <th>13</th>\n",
       "      <td>180</td>\n",
       "      <td>San Francisco</td>\n",
       "    </tr>\n",
       "    <tr>\n",
       "      <th>14</th>\n",
       "      <td>180</td>\n",
       "      <td>San Joaquin</td>\n",
       "    </tr>\n",
       "    <tr>\n",
       "      <th>15</th>\n",
       "      <td>180</td>\n",
       "      <td>San Mateo</td>\n",
       "    </tr>\n",
       "    <tr>\n",
       "      <th>16</th>\n",
       "      <td>12</td>\n",
       "      <td>Santa Barbara</td>\n",
       "    </tr>\n",
       "    <tr>\n",
       "      <th>17</th>\n",
       "      <td>280</td>\n",
       "      <td>Santa Clara</td>\n",
       "    </tr>\n",
       "    <tr>\n",
       "      <th>18</th>\n",
       "      <td>180</td>\n",
       "      <td>Santa Cruz</td>\n",
       "    </tr>\n",
       "    <tr>\n",
       "      <th>19</th>\n",
       "      <td>60</td>\n",
       "      <td>Shasta</td>\n",
       "    </tr>\n",
       "    <tr>\n",
       "      <th>20</th>\n",
       "      <td>280</td>\n",
       "      <td>Solano</td>\n",
       "    </tr>\n",
       "    <tr>\n",
       "      <th>21</th>\n",
       "      <td>180</td>\n",
       "      <td>Sonoma</td>\n",
       "    </tr>\n",
       "    <tr>\n",
       "      <th>22</th>\n",
       "      <td>210</td>\n",
       "      <td>Ventura</td>\n",
       "    </tr>\n",
       "  </tbody>\n",
       "</table>\n",
       "</div>"
      ],
      "text/plain": [
       "    Number of Admits          County\n",
       "0                320         Alameda\n",
       "1                150          Amador\n",
       "2                320    Contra Costa\n",
       "3                 90        Humboldt\n",
       "4                320     Los Angeles\n",
       "5                 48       Mendocino\n",
       "6                150        Monterey\n",
       "7                150            Napa\n",
       "8                320          Orange\n",
       "9                150      Sacramento\n",
       "10                60      San Benito\n",
       "11               210  San Bernardino\n",
       "12               240       San Diego\n",
       "13               180   San Francisco\n",
       "14               180     San Joaquin\n",
       "15               180       San Mateo\n",
       "16                12   Santa Barbara\n",
       "17               280     Santa Clara\n",
       "18               180      Santa Cruz\n",
       "19                60          Shasta\n",
       "20               280          Solano\n",
       "21               180          Sonoma\n",
       "22               210         Ventura"
      ]
     },
     "execution_count": 56,
     "metadata": {},
     "output_type": "execute_result"
    }
   ],
   "source": [
    "# how many admits per county?\n",
    "df.groupby('County') \\\n",
    "    .count() \\\n",
    "    .reset_index()[['Campus', 'County']] \\\n",
    "    .rename(columns={'Campus': 'Number of Admits'})"
   ]
  },
  {
   "cell_type": "code",
   "execution_count": 57,
   "metadata": {
    "collapsed": false
   },
   "outputs": [
    {
     "data": {
      "text/html": [
       "<div>\n",
       "<table border=\"1\" class=\"dataframe\">\n",
       "  <thead>\n",
       "    <tr style=\"text-align: right;\">\n",
       "      <th></th>\n",
       "      <th>Ethnicity</th>\n",
       "      <th>Number of Admits</th>\n",
       "    </tr>\n",
       "  </thead>\n",
       "  <tbody>\n",
       "    <tr>\n",
       "      <th>0</th>\n",
       "      <td>African American</td>\n",
       "      <td>520</td>\n",
       "    </tr>\n",
       "    <tr>\n",
       "      <th>1</th>\n",
       "      <td>All</td>\n",
       "      <td>685</td>\n",
       "    </tr>\n",
       "    <tr>\n",
       "      <th>2</th>\n",
       "      <td>American Indian</td>\n",
       "      <td>272</td>\n",
       "    </tr>\n",
       "    <tr>\n",
       "      <th>3</th>\n",
       "      <td>Asian</td>\n",
       "      <td>652</td>\n",
       "    </tr>\n",
       "    <tr>\n",
       "      <th>4</th>\n",
       "      <td>Domestic Unknown</td>\n",
       "      <td>577</td>\n",
       "    </tr>\n",
       "    <tr>\n",
       "      <th>5</th>\n",
       "      <td>Hispanic/ Latino</td>\n",
       "      <td>649</td>\n",
       "    </tr>\n",
       "    <tr>\n",
       "      <th>6</th>\n",
       "      <td>Inter- national</td>\n",
       "      <td>260</td>\n",
       "    </tr>\n",
       "    <tr>\n",
       "      <th>7</th>\n",
       "      <td>White</td>\n",
       "      <td>655</td>\n",
       "    </tr>\n",
       "  </tbody>\n",
       "</table>\n",
       "</div>"
      ],
      "text/plain": [
       "          Ethnicity  Number of Admits\n",
       "0  African American               520\n",
       "1               All               685\n",
       "2   American Indian               272\n",
       "3             Asian               652\n",
       "4  Domestic Unknown               577\n",
       "5  Hispanic/ Latino               649\n",
       "6   Inter- national               260\n",
       "7             White               655"
      ]
     },
     "execution_count": 57,
     "metadata": {},
     "output_type": "execute_result"
    }
   ],
   "source": [
    "# how many admits per ethnicity?\n",
    "df.groupby('Ethnicity') \\\n",
    "    .count() \\\n",
    "    .reset_index()[['Ethnicity', 'County']] \\\n",
    "    .rename(columns={'County': 'Number of Admits'})"
   ]
  },
  {
   "cell_type": "code",
   "execution_count": 47,
   "metadata": {
    "collapsed": false
   },
   "outputs": [
    {
     "data": {
      "text/html": [
       "<div>\n",
       "<table border=\"1\" class=\"dataframe\">\n",
       "  <thead>\n",
       "    <tr style=\"text-align: right;\">\n",
       "      <th></th>\n",
       "      <th>County</th>\n",
       "      <th>Ethnicity</th>\n",
       "      <th>Gender</th>\n",
       "      <th>Campus</th>\n",
       "      <th>GPA</th>\n",
       "      <th>AvgScrRead</th>\n",
       "      <th>AvgScrMath</th>\n",
       "      <th>AvgScrWrit</th>\n",
       "    </tr>\n",
       "  </thead>\n",
       "  <tbody>\n",
       "    <tr>\n",
       "      <th>0</th>\n",
       "      <td>San Bernardino</td>\n",
       "      <td>Domestic Unknown</td>\n",
       "      <td>Male</td>\n",
       "      <td>Berkeley</td>\n",
       "      <td>4.134665</td>\n",
       "      <td>462.0</td>\n",
       "      <td>470.0</td>\n",
       "      <td>453.0</td>\n",
       "    </tr>\n",
       "    <tr>\n",
       "      <th>1</th>\n",
       "      <td>San Bernardino</td>\n",
       "      <td>Domestic Unknown</td>\n",
       "      <td>Male</td>\n",
       "      <td>Davis</td>\n",
       "      <td>3.969556</td>\n",
       "      <td>462.0</td>\n",
       "      <td>470.0</td>\n",
       "      <td>453.0</td>\n",
       "    </tr>\n",
       "    <tr>\n",
       "      <th>2</th>\n",
       "      <td>San Bernardino</td>\n",
       "      <td>Domestic Unknown</td>\n",
       "      <td>Male</td>\n",
       "      <td>Irvine</td>\n",
       "      <td>3.966652</td>\n",
       "      <td>462.0</td>\n",
       "      <td>470.0</td>\n",
       "      <td>453.0</td>\n",
       "    </tr>\n",
       "    <tr>\n",
       "      <th>3</th>\n",
       "      <td>San Bernardino</td>\n",
       "      <td>Domestic Unknown</td>\n",
       "      <td>Male</td>\n",
       "      <td>Los Angeles</td>\n",
       "      <td>4.131310</td>\n",
       "      <td>462.0</td>\n",
       "      <td>470.0</td>\n",
       "      <td>453.0</td>\n",
       "    </tr>\n",
       "    <tr>\n",
       "      <th>4</th>\n",
       "      <td>San Bernardino</td>\n",
       "      <td>Domestic Unknown</td>\n",
       "      <td>Male</td>\n",
       "      <td>Merced</td>\n",
       "      <td>3.523493</td>\n",
       "      <td>462.0</td>\n",
       "      <td>470.0</td>\n",
       "      <td>453.0</td>\n",
       "    </tr>\n",
       "  </tbody>\n",
       "</table>\n",
       "</div>"
      ],
      "text/plain": [
       "           County         Ethnicity Gender       Campus       GPA  AvgScrRead  \\\n",
       "0  San Bernardino  Domestic Unknown   Male     Berkeley  4.134665       462.0   \n",
       "1  San Bernardino  Domestic Unknown   Male        Davis  3.969556       462.0   \n",
       "2  San Bernardino  Domestic Unknown   Male       Irvine  3.966652       462.0   \n",
       "3  San Bernardino  Domestic Unknown   Male  Los Angeles  4.131310       462.0   \n",
       "4  San Bernardino  Domestic Unknown   Male       Merced  3.523493       462.0   \n",
       "\n",
       "   AvgScrMath  AvgScrWrit  \n",
       "0       470.0       453.0  \n",
       "1       470.0       453.0  \n",
       "2       470.0       453.0  \n",
       "3       470.0       453.0  \n",
       "4       470.0       453.0  "
      ]
     },
     "execution_count": 47,
     "metadata": {},
     "output_type": "execute_result"
    }
   ],
   "source": [
    "df = df.drop(['Unnamed: 0', 'Status'], axis=1)\n",
    "df.head()"
   ]
  },
  {
   "cell_type": "markdown",
   "metadata": {},
   "source": [
    "#### Transform data"
   ]
  },
  {
   "cell_type": "code",
   "execution_count": 48,
   "metadata": {
    "collapsed": false
   },
   "outputs": [
    {
     "name": "stdout",
     "output_type": "stream",
     "text": [
      "X dimensions (4270, 39)\n",
      "y dimensions (4270,)\n",
      "X train dimensions (3416, 39)\n",
      "y train dimensions (3416,)\n"
     ]
    }
   ],
   "source": [
    "# transform the data for the model\n",
    "# return the encoder as it is used in predictions\n",
    "encoder, X = transform_input(df)\n",
    "\n",
    "print (\"X dimensions {0}\".format(X.shape))\n",
    "\n",
    "le = preprocessing.LabelEncoder()\n",
    "y = le.fit_transform(df['Campus'])\n",
    "\n",
    "print (\"y dimensions {0}\".format(y.shape))\n",
    "\n",
    "# split data into 80% train 20% test\n",
    "X_train, X_test, y_train, y_test = train_test_split(X, y, test_size=0.2, random_state=42)\n",
    "\n",
    "print (\"X train dimensions {0}\".format(X_train.shape))\n",
    "print (\"y train dimensions {0}\".format(y_train.shape))"
   ]
  },
  {
   "cell_type": "markdown",
   "metadata": {},
   "source": [
    "#### Train the model"
   ]
  },
  {
   "cell_type": "code",
   "execution_count": 49,
   "metadata": {
    "collapsed": false
   },
   "outputs": [
    {
     "name": "stdout",
     "output_type": "stream",
     "text": [
      "predicted dimensions (854,)\n",
      "y test dimensions (854,)\n"
     ]
    },
    {
     "data": {
      "image/png": "[encoded data removed]",
      "text/plain": [
       "<matplotlib.figure.Figure at 0x11cb0aa50>"
      ]
     },
     "metadata": {},
     "output_type": "display_data"
    }
   ],
   "source": [
    "# train model\n",
    "clf = LogisticRegression(\n",
    "    random_state=0,\n",
    "    solver='lbfgs',\n",
    "    multi_class='multinomial',\n",
    "    max_iter=500)\n",
    "\n",
    "clf.fit(X_train, y_train)\n",
    "\n",
    "# upload mode and encoder to AWS for prediction\n",
    "pickle.dump(clf, open('models/gosat_logistic_regression', 'w'))\n",
    "pickle.dump(encoder, open('models/gosat_logistic_encoder', 'w'))\n",
    "\n",
    "# train model\n",
    "clf = LogisticRegression(random_state=0, solver='lbfgs', multi_class='multinomial')\n",
    "clf.fit(X_train, y_train)\n",
    "\n",
    "y_pred = clf.predict(X_test)\n",
    "print (\"predicted dimensions {0}\".format(y_pred.shape))\n",
    "print (\"y test dimensions {0}\".format(y_test.shape))\n",
    "\n",
    "cm = confusion_matrix(y_test, y_pred)\n",
    "\n",
    "# Plot pixel ranking\n",
    "plt.matshow(cm, cmap=plt.cm.Blues)\n",
    "plt.colorbar()\n",
    "plt.show()"
   ]
  },
  {
   "cell_type": "code",
   "execution_count": 50,
   "metadata": {
    "collapsed": false
   },
   "outputs": [
    {
     "data": {
      "text/plain": [
       "array([0, 1, 2, 3, 4, 5, 6, 7, 8, 9])"
      ]
     },
     "execution_count": 50,
     "metadata": {},
     "output_type": "execute_result"
    }
   ],
   "source": [
    "clf.classes_"
   ]
  },
  {
   "cell_type": "markdown",
   "metadata": {},
   "source": [
    "#### Write data to Amazon S3"
   ]
  },
  {
   "cell_type": "code",
   "execution_count": 51,
   "metadata": {
    "collapsed": true
   },
   "outputs": [],
   "source": [
    "# upload mode and encoder to AWS for prediction\n",
    "pickle.dump(clf, open('models/gosat_logistic_regression', 'w'))\n",
    "pickle.dump(encoder, open('models/gosat_logistic_encoder', 'w'))"
   ]
  },
  {
   "cell_type": "code",
   "execution_count": 52,
   "metadata": {
    "collapsed": false
   },
   "outputs": [],
   "source": [
    "s3 = boto3.client('s3')\n",
    "s3.upload_file('models/gosat_logistic_regression', 'gosat-models', 'gosat_logistic_regression')\n",
    "s3.upload_file('models/gosat_logistic_encoder', 'gosat-models', 'gosat_logistic_encoder')"
   ]
  },
  {
   "cell_type": "code",
   "execution_count": 53,
   "metadata": {
    "collapsed": false
   },
   "outputs": [],
   "source": [
    "# output mapping of labels to universities\n",
    "mapping = {}\n",
    "for index, uni in zip(clf.classes_, le.inverse_transform(clf.classes_)):\n",
    "    mapping[index] = uni\n",
    "\n",
    "json.dump(mapping, open('models/label_mappings.json', 'w'))\n",
    "s3.upload_file('models/label_mappings.json', 'gosat-models', 'gosat_label_mapping.json')"
   ]
  },
  {
   "cell_type": "code",
   "execution_count": null,
   "metadata": {
    "collapsed": true
   },
   "outputs": [],
   "source": []
  }
 ],
 "metadata": {
  "anaconda-cloud": {},
  "kernelspec": {
   "display_name": "Python [default]",
   "language": "python",
   "name": "python2"
  },
  "language_info": {
   "codemirror_mode": {
    "name": "ipython",
    "version": 2
   },
   "file_extension": ".py",
   "mimetype": "text/x-python",
   "name": "python",
   "nbconvert_exporter": "python",
   "pygments_lexer": "ipython2",
   "version": "2.7.12"
  }
 },
 "nbformat": 4,
 "nbformat_minor": 1
}
