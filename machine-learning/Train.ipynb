{
 "cells": [
  {
   "cell_type": "code",
   "execution_count": 23,
   "metadata": {
    "collapsed": false
   },
   "outputs": [],
   "source": [
    "import boto3\n",
    "import json\n",
    "import numpy as np\n",
    "import pandas as pd\n",
    "import matplotlib.pyplot as plt\n",
    "import pickle\n",
    "\n",
    "from sklearn.linear_model import LogisticRegression\n",
    "from sklearn.model_selection import train_test_split\n",
    "from sklearn.metrics import confusion_matrix\n",
    "from sklearn import preprocessing"
   ]
  },
  {
   "cell_type": "code",
   "execution_count": 24,
   "metadata": {
    "collapsed": true
   },
   "outputs": [],
   "source": [
    "\"\"\"\n",
    "Transform input data for model\n",
    "Lowercase all strings in the dataset\n",
    "One-hot encode categorical columns such as Ethnicity and Gender\n",
    "Return the one-hot encoder and combined numpy array\n",
    "\"\"\"\n",
    "def transform_input(df):\n",
    "    df.applymap(lambda s: s.lower() if type(s) == str else s)\n",
    "    df = df.drop(['Campus'], axis=1)\n",
    "    \n",
    "    # round gpas to the nearest hundreth\n",
    "    df['GPA'] = [round(gpa, 2) for gpa in df['GPA']]\n",
    "\n",
    "    encoder = preprocessing.OneHotEncoder(handle_unknown='ignore')\n",
    "    categorical_cols = ['Ethnicity', 'Gender', 'County']\n",
    "    categorical = df[categorical_cols].values\n",
    "\n",
    "    non_categorical_cols = ['GPA', 'AvgScrRead', 'AvgScrMath', 'AvgScrWrit']\n",
    "    intermediate = df[non_categorical_cols]\n",
    "\n",
    "    categoricl_transformed = encoder.fit_transform(categorical).toarray()\n",
    "    features = np.hstack((intermediate.values, categoricl_transformed))\n",
    "\n",
    "    return encoder, features"
   ]
  },
  {
   "cell_type": "markdown",
   "metadata": {},
   "source": [
    "#### Read data"
   ]
  },
  {
   "cell_type": "code",
   "execution_count": 25,
   "metadata": {
    "collapsed": false
   },
   "outputs": [
    {
     "data": {
      "text/html": [
       "<div>\n",
       "<table border=\"1\" class=\"dataframe\">\n",
       "  <thead>\n",
       "    <tr style=\"text-align: right;\">\n",
       "      <th></th>\n",
       "      <th>Campus</th>\n",
       "      <th>Number of Admits</th>\n",
       "    </tr>\n",
       "  </thead>\n",
       "  <tbody>\n",
       "    <tr>\n",
       "      <th>0</th>\n",
       "      <td>Berkeley</td>\n",
       "      <td>257</td>\n",
       "    </tr>\n",
       "    <tr>\n",
       "      <th>1</th>\n",
       "      <td>Davis</td>\n",
       "      <td>302</td>\n",
       "    </tr>\n",
       "    <tr>\n",
       "      <th>2</th>\n",
       "      <td>Irvine</td>\n",
       "      <td>290</td>\n",
       "    </tr>\n",
       "    <tr>\n",
       "      <th>3</th>\n",
       "      <td>Los Angeles</td>\n",
       "      <td>266</td>\n",
       "    </tr>\n",
       "    <tr>\n",
       "      <th>4</th>\n",
       "      <td>Merced</td>\n",
       "      <td>272</td>\n",
       "    </tr>\n",
       "    <tr>\n",
       "      <th>5</th>\n",
       "      <td>Riverside</td>\n",
       "      <td>278</td>\n",
       "    </tr>\n",
       "    <tr>\n",
       "      <th>6</th>\n",
       "      <td>San Diego</td>\n",
       "      <td>290</td>\n",
       "    </tr>\n",
       "    <tr>\n",
       "      <th>7</th>\n",
       "      <td>Santa Barbara</td>\n",
       "      <td>290</td>\n",
       "    </tr>\n",
       "    <tr>\n",
       "      <th>8</th>\n",
       "      <td>Santa Cruz</td>\n",
       "      <td>290</td>\n",
       "    </tr>\n",
       "    <tr>\n",
       "      <th>9</th>\n",
       "      <td>Universitywide</td>\n",
       "      <td>320</td>\n",
       "    </tr>\n",
       "  </tbody>\n",
       "</table>\n",
       "</div>"
      ],
      "text/plain": [
       "           Campus  Number of Admits\n",
       "0        Berkeley               257\n",
       "1           Davis               302\n",
       "2          Irvine               290\n",
       "3     Los Angeles               266\n",
       "4          Merced               272\n",
       "5       Riverside               278\n",
       "6       San Diego               290\n",
       "7   Santa Barbara               290\n",
       "8      Santa Cruz               290\n",
       "9  Universitywide               320"
      ]
     },
     "execution_count": 25,
     "metadata": {},
     "output_type": "execute_result"
    }
   ],
   "source": [
    "df = pd.read_csv('../data/applicant_admissions_data.csv')\n",
    "df = df[df['Status'] == 1]\n",
    "df.groupby('Campus') \\\n",
    "    .count() \\\n",
    "    .reset_index()[['Campus', 'County']] \\\n",
    "    .rename(columns={'County': 'Number of Admits'})"
   ]
  },
  {
   "cell_type": "code",
   "execution_count": 26,
   "metadata": {
    "collapsed": false
   },
   "outputs": [
    {
     "data": {
      "text/html": [
       "<div>\n",
       "<table border=\"1\" class=\"dataframe\">\n",
       "  <thead>\n",
       "    <tr style=\"text-align: right;\">\n",
       "      <th></th>\n",
       "      <th>County</th>\n",
       "      <th>Ethnicity</th>\n",
       "      <th>Gender</th>\n",
       "      <th>Campus</th>\n",
       "      <th>GPA</th>\n",
       "      <th>AvgScrRead</th>\n",
       "      <th>AvgScrMath</th>\n",
       "      <th>AvgScrWrit</th>\n",
       "    </tr>\n",
       "  </thead>\n",
       "  <tbody>\n",
       "    <tr>\n",
       "      <th>210</th>\n",
       "      <td>San Bernardino</td>\n",
       "      <td>Asian</td>\n",
       "      <td>Male</td>\n",
       "      <td>Berkeley</td>\n",
       "      <td>3.990000</td>\n",
       "      <td>462.0</td>\n",
       "      <td>470.0</td>\n",
       "      <td>453.0</td>\n",
       "    </tr>\n",
       "    <tr>\n",
       "      <th>211</th>\n",
       "      <td>San Bernardino</td>\n",
       "      <td>Asian</td>\n",
       "      <td>Male</td>\n",
       "      <td>Davis</td>\n",
       "      <td>4.051972</td>\n",
       "      <td>462.0</td>\n",
       "      <td>470.0</td>\n",
       "      <td>453.0</td>\n",
       "    </tr>\n",
       "    <tr>\n",
       "      <th>212</th>\n",
       "      <td>San Bernardino</td>\n",
       "      <td>Asian</td>\n",
       "      <td>Male</td>\n",
       "      <td>Irvine</td>\n",
       "      <td>4.014323</td>\n",
       "      <td>462.0</td>\n",
       "      <td>470.0</td>\n",
       "      <td>453.0</td>\n",
       "    </tr>\n",
       "    <tr>\n",
       "      <th>213</th>\n",
       "      <td>San Bernardino</td>\n",
       "      <td>Asian</td>\n",
       "      <td>Male</td>\n",
       "      <td>Los Angeles</td>\n",
       "      <td>4.212750</td>\n",
       "      <td>462.0</td>\n",
       "      <td>470.0</td>\n",
       "      <td>453.0</td>\n",
       "    </tr>\n",
       "    <tr>\n",
       "      <th>214</th>\n",
       "      <td>San Bernardino</td>\n",
       "      <td>Asian</td>\n",
       "      <td>Male</td>\n",
       "      <td>Merced</td>\n",
       "      <td>3.516828</td>\n",
       "      <td>462.0</td>\n",
       "      <td>470.0</td>\n",
       "      <td>453.0</td>\n",
       "    </tr>\n",
       "  </tbody>\n",
       "</table>\n",
       "</div>"
      ],
      "text/plain": [
       "             County Ethnicity Gender       Campus       GPA  AvgScrRead  \\\n",
       "210  San Bernardino     Asian   Male     Berkeley  3.990000       462.0   \n",
       "211  San Bernardino     Asian   Male        Davis  4.051972       462.0   \n",
       "212  San Bernardino     Asian   Male       Irvine  4.014323       462.0   \n",
       "213  San Bernardino     Asian   Male  Los Angeles  4.212750       462.0   \n",
       "214  San Bernardino     Asian   Male       Merced  3.516828       462.0   \n",
       "\n",
       "     AvgScrMath  AvgScrWrit  \n",
       "210       470.0       453.0  \n",
       "211       470.0       453.0  \n",
       "212       470.0       453.0  \n",
       "213       470.0       453.0  \n",
       "214       470.0       453.0  "
      ]
     },
     "execution_count": 26,
     "metadata": {},
     "output_type": "execute_result"
    }
   ],
   "source": [
    "df = df.drop(['Unnamed: 0', 'Status'], axis=1)\n",
    "df.head()"
   ]
  },
  {
   "cell_type": "markdown",
   "metadata": {},
   "source": [
    "#### Transform data"
   ]
  },
  {
   "cell_type": "code",
   "execution_count": 27,
   "metadata": {
    "collapsed": false
   },
   "outputs": [
    {
     "name": "stdout",
     "output_type": "stream",
     "text": [
      "X dimensions (2855, 38)\n",
      "y dimensions (2855,)\n",
      "X train dimensions (2284, 38)\n",
      "y train dimensions (2284,)\n"
     ]
    }
   ],
   "source": [
    "# transform the data for the model\n",
    "# return the encoder as it is used in predictions\n",
    "encoder, X = transform_input(df)\n",
    "\n",
    "print (\"X dimensions {0}\".format(X.shape))\n",
    "\n",
    "le = preprocessing.LabelEncoder()\n",
    "y = le.fit_transform(df['Campus'])\n",
    "\n",
    "print (\"y dimensions {0}\".format(y.shape))\n",
    "\n",
    "# split data into 80% train 20% test\n",
    "X_train, X_test, y_train, y_test = train_test_split(X, y, test_size=0.2, random_state=42)\n",
    "\n",
    "print (\"X train dimensions {0}\".format(X_train.shape))\n",
    "print (\"y train dimensions {0}\".format(y_train.shape))"
   ]
  },
  {
   "cell_type": "markdown",
   "metadata": {},
   "source": [
    "#### Train the model"
   ]
  },
  {
   "cell_type": "code",
   "execution_count": 28,
   "metadata": {
    "collapsed": false
   },
   "outputs": [
    {
     "name": "stdout",
     "output_type": "stream",
     "text": [
      "predicted dimensions (571,)\n",
      "y test dimensions (571,)\n"
     ]
    },
    {
     "data": {
      "image/png": "[encoded data removed]",
      "text/plain": [
       "<matplotlib.figure.Figure at 0x121e4df10>"
      ]
     },
     "metadata": {},
     "output_type": "display_data"
    }
   ],
   "source": [
    "# train model\n",
    "clf = LogisticRegression(\n",
    "    random_state=0,\n",
    "    solver='lbfgs',\n",
    "    multi_class='multinomial',\n",
    "    max_iter=500)\n",
    "\n",
    "clf.fit(X_train, y_train)\n",
    "\n",
    "# upload mode and encoder to AWS for prediction\n",
    "pickle.dump(clf, open('models/gosat_logistic_regression', 'w'))\n",
    "pickle.dump(encoder, open('models/gosat_logistic_encoder', 'w'))\n",
    "\n",
    "# train model\n",
    "clf = LogisticRegression(random_state=0, solver='lbfgs', multi_class='multinomial')\n",
    "clf.fit(X_train, y_train)\n",
    "\n",
    "y_pred = clf.predict(X_test)\n",
    "print (\"predicted dimensions {0}\".format(y_pred.shape))\n",
    "print (\"y test dimensions {0}\".format(y_test.shape))\n",
    "\n",
    "cm = confusion_matrix(y_test, y_pred)\n",
    "\n",
    "# Plot pixel ranking\n",
    "plt.matshow(cm, cmap=plt.cm.Blues)\n",
    "plt.colorbar()\n",
    "plt.show()"
   ]
  },
  {
   "cell_type": "code",
   "execution_count": 29,
   "metadata": {
    "collapsed": false
   },
   "outputs": [
    {
     "data": {
      "text/plain": [
       "array([0, 1, 2, 3, 4, 5, 6, 7, 8, 9])"
      ]
     },
     "execution_count": 29,
     "metadata": {},
     "output_type": "execute_result"
    }
   ],
   "source": [
    "clf.classes_"
   ]
  },
  {
   "cell_type": "markdown",
   "metadata": {},
   "source": [
    "#### Write data to Amazon S3"
   ]
  },
  {
   "cell_type": "code",
   "execution_count": 20,
   "metadata": {
    "collapsed": true
   },
   "outputs": [],
   "source": [
    "# upload mode and encoder to AWS for prediction\n",
    "pickle.dump(clf, open('models/gosat_logistic_regression', 'w'))\n",
    "pickle.dump(encoder, open('models/gosat_logistic_encoder', 'w'))"
   ]
  },
  {
   "cell_type": "code",
   "execution_count": 21,
   "metadata": {
    "collapsed": false
   },
   "outputs": [],
   "source": [
    "s3 = boto3.client('s3')\n",
    "s3.upload_file('models/gosat_logistic_regression', 'gosat-models', 'gosat_logistic_regression')\n",
    "s3.upload_file('models/gosat_logistic_encoder', 'gosat-models', 'gosat_logistic_encoder')"
   ]
  },
  {
   "cell_type": "code",
   "execution_count": 22,
   "metadata": {
    "collapsed": false
   },
   "outputs": [],
   "source": [
    "# output mapping of labels to universities\n",
    "mapping = {}\n",
    "for index, uni in zip(clf.classes_, le.inverse_transform(clf.classes_)):\n",
    "    mapping[index] = uni\n",
    "\n",
    "json.dump(mapping, open('models/label_mappings.json', 'w'))\n",
    "s3.upload_file('models/label_mappings.json', 'gosat-models', 'gosat_label_mapping.json')"
   ]
  },
  {
   "cell_type": "code",
   "execution_count": null,
   "metadata": {
    "collapsed": true
   },
   "outputs": [],
   "source": []
  }
 ],
 "metadata": {
  "anaconda-cloud": {},
  "kernelspec": {
   "display_name": "Python [default]",
   "language": "python",
   "name": "python2"
  },
  "language_info": {
   "codemirror_mode": {
    "name": "ipython",
    "version": 2
   },
   "file_extension": ".py",
   "mimetype": "text/x-python",
   "name": "python",
   "nbconvert_exporter": "python",
   "pygments_lexer": "ipython2",
   "version": "2.7.12"
  }
 },
 "nbformat": 4,
 "nbformat_minor": 1
}
