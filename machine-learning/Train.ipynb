{
 "cells": [
  {
   "cell_type": "code",
   "execution_count": 4,
   "metadata": {
    "collapsed": false
   },
   "outputs": [],
   "source": [
    "import numpy as np\n",
    "import pandas as pd\n",
    "import matplotlib.pyplot as plt\n",
    "import pickle\n",
    "\n",
    "from sklearn.linear_model import LogisticRegression\n",
    "from sklearn.model_selection import train_test_split\n",
    "from sklearn.metrics import confusion_matrix\n",
    "from sklearn import preprocessing"
   ]
  },
  {
   "cell_type": "code",
   "execution_count": 5,
   "metadata": {
    "collapsed": true
   },
   "outputs": [],
   "source": [
    "\"\"\"\n",
    "Transform input data for model\n",
    "Lowercase all strings in the dataset\n",
    "One-hot encode categorical columns such as Ethnicity and Gender\n",
    "Return the one-hot encoder and combined numpy array\n",
    "\"\"\"\n",
    "def transform_input(df):\n",
    "    df.applymap(lambda s: s.lower() if type(s) == str else s)\n",
    "    df = df.drop(['Campus'], axis=1)\n",
    "\n",
    "    encoder = preprocessing.OneHotEncoder(handle_unknown='ignore')\n",
    "    categorical_cols = ['Ethnicity', 'Gender', 'County']\n",
    "    categorical = df[categorical_cols].values\n",
    "\n",
    "    non_categorical_cols = ['GPA', 'AvgScrRead', 'AvgScrMath', 'AvgScrWrit']\n",
    "    intermediate = df[non_categorical_cols]\n",
    "\n",
    "    categoricl_transformed = encoder.fit_transform(categorical).toarray()\n",
    "    features = np.hstack((intermediate.values, categoricl_transformed))\n",
    "\n",
    "    return encoder, features"
   ]
  },
  {
   "cell_type": "markdown",
   "metadata": {},
   "source": [
    "#### Read data"
   ]
  },
  {
   "cell_type": "code",
   "execution_count": 6,
   "metadata": {
    "collapsed": false
   },
   "outputs": [
    {
     "data": {
      "text/html": [
       "<div>\n",
       "<table border=\"1\" class=\"dataframe\">\n",
       "  <thead>\n",
       "    <tr style=\"text-align: right;\">\n",
       "      <th></th>\n",
       "      <th>County</th>\n",
       "      <th>Ethnicity</th>\n",
       "      <th>Gender</th>\n",
       "      <th>Campus</th>\n",
       "      <th>GPA</th>\n",
       "      <th>AvgScrRead</th>\n",
       "      <th>AvgScrMath</th>\n",
       "      <th>AvgScrWrit</th>\n",
       "    </tr>\n",
       "  </thead>\n",
       "  <tbody>\n",
       "    <tr>\n",
       "      <th>0</th>\n",
       "      <td>San Bernardino</td>\n",
       "      <td>Domestic Unknown</td>\n",
       "      <td>Male</td>\n",
       "      <td>Berkeley</td>\n",
       "      <td>2</td>\n",
       "      <td>2</td>\n",
       "      <td>2</td>\n",
       "      <td>1</td>\n",
       "    </tr>\n",
       "    <tr>\n",
       "      <th>1</th>\n",
       "      <td>San Bernardino</td>\n",
       "      <td>Domestic Unknown</td>\n",
       "      <td>Male</td>\n",
       "      <td>Davis</td>\n",
       "      <td>2</td>\n",
       "      <td>2</td>\n",
       "      <td>2</td>\n",
       "      <td>1</td>\n",
       "    </tr>\n",
       "    <tr>\n",
       "      <th>2</th>\n",
       "      <td>San Bernardino</td>\n",
       "      <td>Domestic Unknown</td>\n",
       "      <td>Male</td>\n",
       "      <td>Irvine</td>\n",
       "      <td>2</td>\n",
       "      <td>2</td>\n",
       "      <td>2</td>\n",
       "      <td>1</td>\n",
       "    </tr>\n",
       "    <tr>\n",
       "      <th>3</th>\n",
       "      <td>San Bernardino</td>\n",
       "      <td>Domestic Unknown</td>\n",
       "      <td>Male</td>\n",
       "      <td>Los Angeles</td>\n",
       "      <td>2</td>\n",
       "      <td>2</td>\n",
       "      <td>2</td>\n",
       "      <td>1</td>\n",
       "    </tr>\n",
       "    <tr>\n",
       "      <th>4</th>\n",
       "      <td>San Bernardino</td>\n",
       "      <td>Domestic Unknown</td>\n",
       "      <td>Male</td>\n",
       "      <td>Merced</td>\n",
       "      <td>1</td>\n",
       "      <td>2</td>\n",
       "      <td>2</td>\n",
       "      <td>1</td>\n",
       "    </tr>\n",
       "  </tbody>\n",
       "</table>\n",
       "</div>"
      ],
      "text/plain": [
       "           County         Ethnicity Gender       Campus  GPA  AvgScrRead  \\\n",
       "0  San Bernardino  Domestic Unknown   Male     Berkeley    2           2   \n",
       "1  San Bernardino  Domestic Unknown   Male        Davis    2           2   \n",
       "2  San Bernardino  Domestic Unknown   Male       Irvine    2           2   \n",
       "3  San Bernardino  Domestic Unknown   Male  Los Angeles    2           2   \n",
       "4  San Bernardino  Domestic Unknown   Male       Merced    1           2   \n",
       "\n",
       "   AvgScrMath  AvgScrWrit  \n",
       "0           2           1  \n",
       "1           2           1  \n",
       "2           2           1  \n",
       "3           2           1  \n",
       "4           2           1  "
      ]
     },
     "execution_count": 6,
     "metadata": {},
     "output_type": "execute_result"
    }
   ],
   "source": [
    "df = pd.read_csv('../data/applicant_admissions_data.csv').drop(['Unnamed: 0', 'Status'], axis=1)\n",
    "df.head()"
   ]
  },
  {
   "cell_type": "markdown",
   "metadata": {},
   "source": [
    "#### Transform data"
   ]
  },
  {
   "cell_type": "code",
   "execution_count": 7,
   "metadata": {
    "collapsed": false
   },
   "outputs": [
    {
     "name": "stdout",
     "output_type": "stream",
     "text": [
      "X dimensions (5940, 39)\n",
      "y dimensions (5940,)\n",
      "X train dimensions (4752, 39)\n",
      "y train dimensions (4752,)\n"
     ]
    }
   ],
   "source": [
    "# transform the data for the model\n",
    "# return the encoder as it is used in predictions\n",
    "encoder, X = transform_input(df)\n",
    "\n",
    "print (\"X dimensions {0}\".format(X.shape))\n",
    "\n",
    "le = preprocessing.LabelEncoder()\n",
    "y = le.fit_transform(df['Campus'])\n",
    "\n",
    "print (\"y dimensions {0}\".format(y.shape))\n",
    "\n",
    "# split data into 80% train 20% test\n",
    "X_train, X_test, y_train, y_test = train_test_split(X, y, test_size=0.2, random_state=42)\n",
    "\n",
    "print (\"X train dimensions {0}\".format(X_train.shape))\n",
    "print (\"y train dimensions {0}\".format(y_train.shape))"
   ]
  },
  {
   "cell_type": "markdown",
   "metadata": {},
   "source": [
    "#### Train the model"
   ]
  },
  {
   "cell_type": "code",
   "execution_count": 8,
   "metadata": {
    "collapsed": false
   },
   "outputs": [
    {
     "name": "stderr",
     "output_type": "stream",
     "text": [
      "/Users/soniamannan/.local/lib/python2.7/site-packages/sklearn/linear_model/logistic.py:758: ConvergenceWarning: lbfgs failed to converge. Increase the number of iterations.\n",
      "  \"of iterations.\", ConvergenceWarning)\n"
     ]
    },
    {
     "name": "stdout",
     "output_type": "stream",
     "text": [
      "predicted dimensions (1188,)\n",
      "y test dimensions (1188,)\n",
      "[5 5 5 ..., 3 5 3]\n",
      "[5 8 7 ..., 2 2 1]\n"
     ]
    },
    {
     "data": {
      "image/png": "[encoded data removed]",
      "text/plain": [
       "<matplotlib.figure.Figure at 0x11b1d9490>"
      ]
     },
     "metadata": {},
     "output_type": "display_data"
    }
   ],
   "source": [
    "# train model\n",
    "clf = LogisticRegression(\n",
    "    random_state=0,\n",
    "    solver='lbfgs',\n",
    "    multi_class='multinomial',\n",
    "    max_iter=500)\n",
    "\n",
    "clf.fit(X_train, y_train)\n",
    "\n",
    "# upload mode and encoder to AWS for prediction\n",
    "pickle.dump(clf, open('models/gosat_logistic_regression', 'w'))\n",
    "pickle.dump(encoder, open('models/gosat_logistic_encoder', 'w'))\n",
    "\n",
    "\n",
    "# In[ ]:\n",
    "\n",
    "# train model\n",
    "clf = LogisticRegression(random_state=0, solver='lbfgs', multi_class='multinomial')\n",
    "clf.fit(X_train, y_train)\n",
    "\n",
    "y_pred = clf.predict(X_test)\n",
    "print (\"predicted dimensions {0}\".format(y_pred.shape))\n",
    "print (\"y test dimensions {0}\".format(y_test.shape))\n",
    "\n",
    "print (y_pred)\n",
    "print (y_test)\n",
    "\n",
    "cm = confusion_matrix(y_test, y_pred)\n",
    "\n",
    "# Plot pixel ranking\n",
    "plt.matshow(cm, cmap=plt.cm.Blues)\n",
    "plt.colorbar()\n",
    "plt.show()"
   ]
  },
  {
   "cell_type": "code",
   "execution_count": null,
   "metadata": {
    "collapsed": true
   },
   "outputs": [],
   "source": []
  }
 ],
 "metadata": {
  "anaconda-cloud": {},
  "kernelspec": {
   "display_name": "Python [default]",
   "language": "python",
   "name": "python2"
  },
  "language_info": {
   "codemirror_mode": {
    "name": "ipython",
    "version": 2
   },
   "file_extension": ".py",
   "mimetype": "text/x-python",
   "name": "python",
   "nbconvert_exporter": "python",
   "pygments_lexer": "ipython2",
   "version": "2.7.12"
  }
 },
 "nbformat": 4,
 "nbformat_minor": 1
}
