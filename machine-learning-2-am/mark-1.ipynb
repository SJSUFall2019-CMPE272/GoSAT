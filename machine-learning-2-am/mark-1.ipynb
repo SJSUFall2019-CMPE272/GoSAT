{
 "cells": [
  {
   "cell_type": "code",
   "execution_count": 6,
   "metadata": {},
   "outputs": [],
   "source": [
    "import pandas as pd\n",
    "import numpy as np\n",
    "df = pd.read_csv(\"data/structure_test_data_simple.csv\",index_col = ['u_id','d_id','d_v'])"
   ]
  },
  {
   "cell_type": "code",
   "execution_count": 7,
   "metadata": {},
   "outputs": [
    {
     "name": "stdout",
     "output_type": "stream",
     "text": [
      "                      per\n",
      "u_id d_id d_v            \n",
      "1    1    4.0   34.073968\n",
      "          3.7   63.978936\n",
      "          3.3   76.639115\n",
      "          3.0   19.414366\n",
      "          0.0   78.206835\n",
      "...                   ...\n",
      "9    7    0.0   42.474970\n",
      "     8    15.0  83.954189\n",
      "          10.0  56.689514\n",
      "          5.0   76.839266\n",
      "          0.0   32.266083\n",
      "\n",
      "[333 rows x 1 columns]\n"
     ]
    }
   ],
   "source": [
    "print(df)"
   ]
  },
  {
   "cell_type": "code",
   "execution_count": 8,
   "metadata": {},
   "outputs": [
    {
     "data": {
      "text/plain": [
       "15.64150511"
      ]
     },
     "execution_count": 8,
     "metadata": {},
     "output_type": "execute_result"
    }
   ],
   "source": [
    "df.head(n=20)\n",
    "#main search term df.loc[1,2,31]['per']"
   ]
  },
  {
   "cell_type": "code",
   "execution_count": 23,
   "metadata": {},
   "outputs": [
    {
     "name": "stdout",
     "output_type": "stream",
     "text": [
      "78.2068353\n",
      "3.713557331\n",
      "18.44213129\n",
      "30.74772997\n",
      "7.23138089\n",
      "8.489030912999999\n",
      "77.31392849\n",
      "88.21476495\n",
      "55.94382863\n",
      "20.66150011\n",
      "21.18281062\n",
      "29.70632352\n",
      "79.76844812\n",
      "41.24225525\n",
      "67.18924632\n",
      "49.3227287\n",
      "95.95241446\n",
      "47.14008681\n",
      "25.30626876\n",
      "21.18055716\n",
      "92.52671273\n",
      "29.14326436\n",
      "15.16976231\n",
      "15.37919538\n",
      "7.672851933\n",
      "8.40229654\n",
      "4.159533028999999\n",
      "89.55539036\n",
      "1.185755353\n",
      "33.32405105\n",
      "59.62444176\n",
      "3.42627558\n",
      "4.2255487789999995\n",
      "3.580947961\n",
      "3.3347278489999996\n",
      "98.35448604\n",
      "69.18871896\n",
      "14.80546992\n",
      "91.63245929\n",
      "17.32426083\n",
      "20.72304683\n",
      "4.603699455\n",
      "75.81120017\n",
      "20.48790944\n",
      "60.187926100000006\n",
      "69.75151791\n",
      "30.78783855\n",
      "36.88001339\n",
      "90.93425114\n",
      "84.63598816\n",
      "14.98821507\n",
      "77.03813255\n",
      "48.7500619\n",
      "95.22686518\n",
      "62.55372037\n",
      "6.75081444\n",
      "1.536460231\n",
      "60.95076014\n",
      "74.20254293\n",
      "28.71146167\n",
      "91.48251977\n",
      "69.25621665\n",
      "69.94238317\n",
      "46.52352585\n"
     ]
    }
   ],
   "source": [
    "gpa=0\n",
    "actE=0\n",
    "actC=0\n",
    "satW=0\n",
    "satM=0\n",
    "satE=0\n",
    "agc=0\n",
    "hc=0\n",
    "\n",
    "n_uni = 9\n",
    "\n",
    "a = [gpa,actE,actC,satW,satM, satE, agc, hc]\n",
    "b = np.empty([n_uni, len(a)])\n",
    "\n",
    "\n",
    "#iterating through the loop\n",
    "#extracting percentages of \n",
    "#each and every university \n",
    "#based on given input\n",
    "\n",
    "for i in range(0,n_uni-1):\n",
    "    for j in range (0,len(a)):\n",
    "        b[i][j] = df.loc[i+1,j+1,a[j]]['per']\n",
    "    \n"
   ]
  },
  {
   "cell_type": "code",
   "execution_count": 3,
   "metadata": {},
   "outputs": [],
   "source": [
    "def main_process(gpa=0, actE=0, actC=0, satW=0, satM=0, satE=0, agc=0, hc=0):\n",
    "    #\n",
    "    #rest of algo will come here!!!\n",
    "    #\n",
    "    #Just test o/p\n",
    "    a = [\"78%\",\"56%\",\"66%\",\"87%\",\"56%\",\"54%\",\"56%\",\"76%\",\"65%\"]\n",
    "    return a"
   ]
  },
  {
   "cell_type": "code",
   "execution_count": 5,
   "metadata": {},
   "outputs": [
    {
     "data": {
      "text/plain": [
       "['78%', '56%', '66%', '87%', '56%', '54%', '56%', '76%', '65%']"
      ]
     },
     "execution_count": 5,
     "metadata": {},
     "output_type": "execute_result"
    }
   ],
   "source": [
    "main_process()"
   ]
  },
  {
   "cell_type": "code",
   "execution_count": null,
   "metadata": {},
   "outputs": [],
   "source": []
  }
 ],
 "metadata": {
  "kernelspec": {
   "display_name": "Python 3",
   "language": "python",
   "name": "python3"
  },
  "language_info": {
   "codemirror_mode": {
    "name": "ipython",
    "version": 3
   },
   "file_extension": ".py",
   "mimetype": "text/x-python",
   "name": "python",
   "nbconvert_exporter": "python",
   "pygments_lexer": "ipython3",
   "version": "3.7.4"
  }
 },
 "nbformat": 4,
 "nbformat_minor": 2
}
