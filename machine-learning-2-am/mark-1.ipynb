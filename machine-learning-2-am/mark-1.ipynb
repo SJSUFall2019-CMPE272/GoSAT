{
 "cells": [
  {
   "cell_type": "code",
   "execution_count": 6,
   "metadata": {},
   "outputs": [],
   "source": [
    "import pandas as pd\n",
    "import numpy as np\n",
    "df = pd.read_csv(\"data/structure_test_data_simple.csv\",index_col = ['u_id','d_id','d_v'])"
   ]
  },
  {
   "cell_type": "code",
   "execution_count": 7,
   "metadata": {},
   "outputs": [
    {
     "name": "stdout",
     "output_type": "stream",
     "text": [
      "                      per\n",
      "u_id d_id d_v            \n",
      "1    1    4.0   34.073968\n",
      "          3.7   63.978936\n",
      "          3.3   76.639115\n",
      "          3.0   19.414366\n",
      "          0.0   78.206835\n",
      "...                   ...\n",
      "9    7    0.0   42.474970\n",
      "     8    15.0  83.954189\n",
      "          10.0  56.689514\n",
      "          5.0   76.839266\n",
      "          0.0   32.266083\n",
      "\n",
      "[333 rows x 1 columns]\n"
     ]
    }
   ],
   "source": [
    "print(df)"
   ]
  },
  {
   "cell_type": "code",
   "execution_count": 8,
   "metadata": {},
   "outputs": [
    {
     "data": {
      "text/plain": [
       "15.64150511"
      ]
     },
     "execution_count": 8,
     "metadata": {},
     "output_type": "execute_result"
    }
   ],
   "source": [
    "df.head(n=20)\n",
    "#main search term df.loc[1,2,31]['per']"
   ]
  },
  {
   "cell_type": "code",
   "execution_count": 31,
   "metadata": {},
   "outputs": [],
   "source": [
    "gpa=0\n",
    "actE=0\n",
    "actC=0\n",
    "satW=0\n",
    "satM=0\n",
    "satE=0\n",
    "agc=0\n",
    "hc=0\n",
    "\n",
    "n_uni = 9\n",
    "\n",
    "a = [gpa,actE,actC,satW,satM, satE, agc, hc]\n",
    "b = np.empty([n_uni, len(a)])\n",
    "c = np.empty(n_uni)\n",
    "\n",
    "#iterating through the loop\n",
    "#extracting percentages of \n",
    "#each and every university \n",
    "#based on given input\n",
    "\n",
    "for i in range(0,n_uni-1):\n",
    "    uni_res = 0\n",
    "    for j in range (0,len(a)):\n",
    "        b[i][j] = df.loc[i+1,j+1,a[j]]['per']\n",
    "    \n",
    "        if j == 0 : uni_res = uni_res + (b[i][j]*2) #GPA, weight 2\n",
    "        elif j == 1: uni_res = uni_res + (b[i][j]*0.5) #actE, weight 0.5\n",
    "        elif j == 2: uni_res = uni_res + (b[i][j]*0.5) #actC, weight 0.5\n",
    "        elif j == 3: uni_res = uni_res + (b[i][j]*0.33) #satW, weight 0.33\n",
    "        elif j == 4: uni_res = uni_res + (b[i][j]*0.33) #satM, weight 0.33\n",
    "        elif j == 5: uni_res = uni_res + (b[i][j]*0.33) #satE, weight 0.33\n",
    "        elif j == 6: uni_res = uni_res + (b[i][j]*2) #agc, weight 2\n",
    "        elif j == 7: uni_res = uni_res + (b[i][j]*2) #hc, weight 2\n",
    "\n",
    "    c[i] = uni_res\n",
    "    print (c[])\n"
   ]
  },
  {
   "cell_type": "code",
   "execution_count": 25,
   "metadata": {},
   "outputs": [],
   "source": [
    "def main_process(gpa=0, actE=0, actC=0, satW=0, satM=0, satE=0, agc=0, hc=0):\n",
    "    #\n",
    "    #rest of algo will come here!!!\n",
    "    #\n",
    "    #Just test o/p\n",
    "    a = [\"78%\",\"56%\",\"66%\",\"87%\",\"56%\",\"54%\",\"56%\",\"76%\",\"65%\"]\n",
    "    return a"
   ]
  },
  {
   "cell_type": "code",
   "execution_count": 26,
   "metadata": {},
   "outputs": [
    {
     "data": {
      "text/plain": [
       "['78%', '56%', '66%', '87%', '56%', '54%', '56%', '76%', '65%']"
      ]
     },
     "execution_count": 26,
     "metadata": {},
     "output_type": "execute_result"
    }
   ],
   "source": [
    "main_process()"
   ]
  },
  {
   "cell_type": "code",
   "execution_count": null,
   "metadata": {},
   "outputs": [],
   "source": []
  }
 ],
 "metadata": {
  "kernelspec": {
   "display_name": "Python 3",
   "language": "python",
   "name": "python3"
  },
  "language_info": {
   "codemirror_mode": {
    "name": "ipython",
    "version": 3
   },
   "file_extension": ".py",
   "mimetype": "text/x-python",
   "name": "python",
   "nbconvert_exporter": "python",
   "pygments_lexer": "ipython3",
   "version": "3.7.4"
  }
 },
 "nbformat": 4,
 "nbformat_minor": 2
}
