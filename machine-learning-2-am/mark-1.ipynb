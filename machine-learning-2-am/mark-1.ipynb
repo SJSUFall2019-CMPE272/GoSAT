{
 "cells": [
  {
   "cell_type": "code",
   "execution_count": 84,
   "metadata": {},
   "outputs": [],
   "source": [
    "import pandas as pd\n",
    "import numpy as np\n",
    "df = pd.read_csv(\"data/structure_test_data_simple.csv\",index_col = ['u_id','d_id','d_v'])"
   ]
  },
  {
   "cell_type": "code",
   "execution_count": 85,
   "metadata": {},
   "outputs": [
    {
     "name": "stdout",
     "output_type": "stream",
     "text": [
      "                      per\n",
      "u_id d_id d_v            \n",
      "1    1    4.0   79.622036\n",
      "          3.7   65.098255\n",
      "          3.3   37.259128\n",
      "          3.0   98.062961\n",
      "          0.0   32.229664\n",
      "...                   ...\n",
      "2    7    0.0   58.188195\n",
      "     8    15.0  27.410930\n",
      "          10.0  65.681926\n",
      "          5.0   21.558533\n",
      "          0.0   46.526537\n",
      "\n",
      "[74 rows x 1 columns]\n"
     ]
    }
   ],
   "source": [
    "print(df)"
   ]
  },
  {
   "cell_type": "code",
   "execution_count": 86,
   "metadata": {},
   "outputs": [
    {
     "data": {
      "text/plain": [
       "64.78111841"
      ]
     },
     "execution_count": 86,
     "metadata": {},
     "output_type": "execute_result"
    }
   ],
   "source": [
    "df.head(n=20)\n",
    "df.loc[1,2,31]['per']"
   ]
  },
  {
   "cell_type": "code",
   "execution_count": 94,
   "metadata": {},
   "outputs": [
    {
     "name": "stdout",
     "output_type": "stream",
     "text": [
      "79.62203628\n",
      "64.78111841\n",
      "93.42406534\n",
      "19.85339009\n",
      "34.99598475\n",
      "53.26607664\n",
      "89.00395284\n",
      "28.26872482\n",
      "18.97878813\n",
      "98.80647487\n",
      "11.24328629\n",
      "27.55501452\n",
      "44.53443918\n",
      "84.64853079\n",
      "64.09090878\n",
      "27.41093026\n"
     ]
    }
   ],
   "source": [
    "a = [4.0,31.0,31.0,700.0,700.0,20.0,50.0,15.0]\n",
    "b = np.empty([2,8])\n",
    "for i in range(0,2):\n",
    "    for j in range (0,8):\n",
    "        b[i][j] = df.loc[i+1,j+1,a[j]]['per']\n",
    "        print(b[i][j])\n",
    "    \n"
   ]
  },
  {
   "cell_type": "code",
   "execution_count": 3,
   "metadata": {},
   "outputs": [],
   "source": [
    "def main_process(gpa=0, actE=0, actC=0, satW=0, satM=0, satE=0, agc=0, hc=0):\n",
    "    #\n",
    "    #rest of algo will come here!!!\n",
    "    #\n",
    "    #Just test o/p\n",
    "    a = [\"78%\",\"56%\",\"66%\",\"87%\",\"56%\",\"54%\",\"56%\",\"76%\",\"65%\"]\n",
    "    return a"
   ]
  },
  {
   "cell_type": "code",
   "execution_count": 5,
   "metadata": {},
   "outputs": [
    {
     "data": {
      "text/plain": [
       "['78%', '56%', '66%', '87%', '56%', '54%', '56%', '76%', '65%']"
      ]
     },
     "execution_count": 5,
     "metadata": {},
     "output_type": "execute_result"
    }
   ],
   "source": [
    "main_process()"
   ]
  },
  {
   "cell_type": "code",
   "execution_count": null,
   "metadata": {},
   "outputs": [],
   "source": []
  }
 ],
 "metadata": {
  "kernelspec": {
   "display_name": "Python 3",
   "language": "python",
   "name": "python3"
  },
  "language_info": {
   "codemirror_mode": {
    "name": "ipython",
    "version": 3
   },
   "file_extension": ".py",
   "mimetype": "text/x-python",
   "name": "python",
   "nbconvert_exporter": "python",
   "pygments_lexer": "ipython3",
   "version": "3.7.4"
  }
 },
 "nbformat": 4,
 "nbformat_minor": 2
}
